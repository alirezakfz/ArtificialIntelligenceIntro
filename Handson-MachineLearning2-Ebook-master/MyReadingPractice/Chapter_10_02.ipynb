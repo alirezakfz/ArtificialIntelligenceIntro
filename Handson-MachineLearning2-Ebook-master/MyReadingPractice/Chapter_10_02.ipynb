{
 "cells": [
  {
   "attachments": {
    "image.png": {
     "image/png": "[encoded data removed]"
    }
   },
   "cell_type": "markdown",
   "metadata": {},
   "source": [
    "# Building Complex Models Using the Functional API\n",
    "One example of a nonsequential neural network is a Wide & Deep neural network.\\\n",
    "“Wide & Deep Learning for Recommender Systems,” Proceedings of the First Workshop\n",
    "on Deep Learning for Recommender Systems (2016): 7–10.\n",
    "![image.png](attachment:image.png)"
   ]
  },
  {
   "cell_type": "markdown",
   "metadata": {},
   "source": [
    "## 1- Let’s build such a neural network to tackle the California housing problem"
   ]
  },
  {
   "cell_type": "code",
   "execution_count": 3,
   "metadata": {},
   "outputs": [],
   "source": [
    "import tensorflow as tf\n",
    "from tensorflow import keras\n",
    "import numpy as np"
   ]
  },
  {
   "cell_type": "code",
   "execution_count": 18,
   "metadata": {},
   "outputs": [],
   "source": [
    "from sklearn.datasets import fetch_california_housing\n",
    "from sklearn.model_selection import train_test_split\n",
    "from sklearn.preprocessing import StandardScaler"
   ]
  },
  {
   "cell_type": "code",
   "execution_count": 19,
   "metadata": {},
   "outputs": [],
   "source": [
    "import pandas as pd\n",
    "import matplotlib.pyplot as plt"
   ]
  },
  {
   "cell_type": "code",
   "execution_count": 5,
   "metadata": {},
   "outputs": [],
   "source": [
    "housing = fetch_california_housing()\n",
    "x_train_full, x_test, y_train_full, y_test = train_test_split(housing.data, housing.target)\n",
    "x_train, x_valid, y_train, y_valid = train_test_split(x_train_full, y_train_full)"
   ]
  },
  {
   "cell_type": "code",
   "execution_count": 6,
   "metadata": {},
   "outputs": [],
   "source": [
    "scaler=StandardScaler()\n",
    "x_train = scaler.fit_transform(x_train)\n",
    "x_valid = scaler.fit_transform(x_valid)\n",
    "x_test = scaler.fit_transform(x_test)"
   ]
  },
  {
   "cell_type": "markdown",
   "metadata": {},
   "source": [
    "First, we need to create an Input object. This is a specification of the kind of input the model will get, including its shape and dtype. A model may actually have multiple inputs, as we will see shortly."
   ]
  },
  {
   "cell_type": "code",
   "execution_count": 7,
   "metadata": {},
   "outputs": [],
   "source": [
    "input_ = keras.layers.Input(shape=x_train.shape[1:])"
   ]
  },
  {
   "cell_type": "markdown",
   "metadata": {},
   "source": [
    "Next, we create a Dense layer with 30 neurons, using the ReLU activation function.\\\n",
    "As soon as it is created, notice that we call it like a function, passing it the input. This is why this is called the Functional API. Note that we are just telling Keras how it should connect the layers together; no actual data is being processed\n",
    "yet."
   ]
  },
  {
   "cell_type": "code",
   "execution_count": 9,
   "metadata": {},
   "outputs": [],
   "source": [
    "hidden1 =  keras.layers.Dense(30, activation=\"relu\")(input_)"
   ]
  },
  {
   "cell_type": "code",
   "execution_count": 10,
   "metadata": {},
   "outputs": [],
   "source": [
    "hidden2 = keras.layers.Dense(30, activation= \"relu\")(hidden1)"
   ]
  },
  {
   "cell_type": "markdown",
   "metadata": {},
   "source": [
    "Next, we create a Concatenate layer, and once again we immediately use it like a function, to concatenate the input and the output of the second hidden layer.\\\n",
    "You may prefer the keras.layers.concatenate() function, which creates a Concatenate layer and immediately calls it with the given inputs."
   ]
  },
  {
   "cell_type": "code",
   "execution_count": 11,
   "metadata": {},
   "outputs": [],
   "source": [
    "concat = keras.layers.Concatenate()([input_, hidden2])"
   ]
  },
  {
   "cell_type": "markdown",
   "metadata": {},
   "source": [
    "Then we create the output layer, with a single neuron and no activation function, and we call it like a function, passing it the result of the concatenation."
   ]
  },
  {
   "cell_type": "code",
   "execution_count": 12,
   "metadata": {},
   "outputs": [],
   "source": [
    "output = keras.layers.Dense(1)(concat)"
   ]
  },
  {
   "cell_type": "markdown",
   "metadata": {},
   "source": [
    "Lastly, we create a Keras Model, specifying which inputs and outputs to use"
   ]
  },
  {
   "cell_type": "code",
   "execution_count": 14,
   "metadata": {},
   "outputs": [],
   "source": [
    "model = keras.Model(inputs=[input_],outputs=[output])"
   ]
  },
  {
   "cell_type": "code",
   "execution_count": 23,
   "metadata": {},
   "outputs": [],
   "source": [
    "model.compile(loss=\"mse\", optimizer=keras.optimizers.SGD(lr=1e-4))"
   ]
  },
  {
   "cell_type": "code",
   "execution_count": 24,
   "metadata": {},
   "outputs": [
    {
     "name": "stdout",
     "output_type": "stream",
     "text": [
      "Model: \"model\"\n",
      "__________________________________________________________________________________________________\n",
      "Layer (type)                    Output Shape         Param #     Connected to                     \n",
      "==================================================================================================\n",
      "input_1 (InputLayer)            [(None, 8)]          0                                            \n",
      "__________________________________________________________________________________________________\n",
      "dense (Dense)                   (None, 30)           270         input_1[0][0]                    \n",
      "__________________________________________________________________________________________________\n",
      "dense_1 (Dense)                 (None, 30)           930         dense[0][0]                      \n",
      "__________________________________________________________________________________________________\n",
      "concatenate (Concatenate)       (None, 38)           0           input_1[0][0]                    \n",
      "                                                                 dense_1[0][0]                    \n",
      "__________________________________________________________________________________________________\n",
      "dense_2 (Dense)                 (None, 1)            39          concatenate[0][0]                \n",
      "==================================================================================================\n",
      "Total params: 1,239\n",
      "Trainable params: 1,239\n",
      "Non-trainable params: 0\n",
      "__________________________________________________________________________________________________\n"
     ]
    }
   ],
   "source": [
    "model.summary()"
   ]
  },
  {
   "cell_type": "code",
   "execution_count": 25,
   "metadata": {},
   "outputs": [
    {
     "name": "stdout",
     "output_type": "stream",
     "text": [
      "Train on 11610 samples, validate on 3870 samples\n",
      "Epoch 1/30\n",
      "11610/11610 [==============================] - 3s 242us/sample - loss: 0.4578 - val_loss: 0.4218\n",
      "Epoch 2/30\n",
      "11610/11610 [==============================] - 1s 126us/sample - loss: 0.4567 - val_loss: 0.4217\n",
      "Epoch 3/30\n",
      "11610/11610 [==============================] - 2s 130us/sample - loss: 0.4562 - val_loss: 0.4217\n",
      "Epoch 4/30\n",
      "11610/11610 [==============================] - 2s 130us/sample - loss: 0.4558 - val_loss: 0.4215\n",
      "Epoch 5/30\n",
      "11610/11610 [==============================] - 2s 131us/sample - loss: 0.4555 - val_loss: 0.4214\n",
      "Epoch 6/30\n",
      "11610/11610 [==============================] - 1s 128us/sample - loss: 0.4553 - val_loss: 0.4211\n",
      "Epoch 7/30\n",
      "11610/11610 [==============================] - 2s 154us/sample - loss: 0.4550 - val_loss: 0.4209\n",
      "Epoch 8/30\n",
      "11610/11610 [==============================] - 2s 184us/sample - loss: 0.4548 - val_loss: 0.4209\n",
      "Epoch 9/30\n",
      "11610/11610 [==============================] - 1s 126us/sample - loss: 0.4546 - val_loss: 0.4208\n",
      "Epoch 10/30\n",
      "11610/11610 [==============================] - 1s 104us/sample - loss: 0.4544 - val_loss: 0.4207\n",
      "Epoch 11/30\n",
      "11610/11610 [==============================] - 1s 104us/sample - loss: 0.4541 - val_loss: 0.4206\n",
      "Epoch 12/30\n",
      "11610/11610 [==============================] - 1s 119us/sample - loss: 0.4539 - val_loss: 0.4206\n",
      "Epoch 13/30\n",
      "11610/11610 [==============================] - 1s 114us/sample - loss: 0.4537 - val_loss: 0.4205\n",
      "Epoch 14/30\n",
      "11610/11610 [==============================] - 1s 104us/sample - loss: 0.4535 - val_loss: 0.4203\n",
      "Epoch 15/30\n",
      "11610/11610 [==============================] - 1s 108us/sample - loss: 0.4533 - val_loss: 0.4201\n",
      "Epoch 16/30\n",
      "11610/11610 [==============================] - 1s 104us/sample - loss: 0.4531 - val_loss: 0.4200\n",
      "Epoch 17/30\n",
      "11610/11610 [==============================] - 1s 106us/sample - loss: 0.4529 - val_loss: 0.4201\n",
      "Epoch 18/30\n",
      "11610/11610 [==============================] - 1s 107us/sample - loss: 0.4527 - val_loss: 0.4201\n",
      "Epoch 19/30\n",
      "11610/11610 [==============================] - 1s 104us/sample - loss: 0.4525 - val_loss: 0.4200\n",
      "Epoch 20/30\n",
      "11610/11610 [==============================] - 1s 104us/sample - loss: 0.4523 - val_loss: 0.4200\n",
      "Epoch 21/30\n",
      "11610/11610 [==============================] - 1s 106us/sample - loss: 0.4521 - val_loss: 0.4200\n",
      "Epoch 22/30\n",
      "11610/11610 [==============================] - 1s 104us/sample - loss: 0.4519 - val_loss: 0.4199\n",
      "Epoch 23/30\n",
      "11610/11610 [==============================] - 1s 104us/sample - loss: 0.4517 - val_loss: 0.4198\n",
      "Epoch 24/30\n",
      "11610/11610 [==============================] - 1s 104us/sample - loss: 0.4515 - val_loss: 0.4197\n",
      "Epoch 25/30\n",
      "11610/11610 [==============================] - 1s 103us/sample - loss: 0.4513 - val_loss: 0.4195\n",
      "Epoch 26/30\n",
      "11610/11610 [==============================] - 1s 104us/sample - loss: 0.4511 - val_loss: 0.4196\n",
      "Epoch 27/30\n",
      "11610/11610 [==============================] - 1s 105us/sample - loss: 0.4509 - val_loss: 0.4196\n",
      "Epoch 28/30\n",
      "11610/11610 [==============================] - 1s 103us/sample - loss: 0.4507 - val_loss: 0.4196\n",
      "Epoch 29/30\n",
      "11610/11610 [==============================] - 1s 112us/sample - loss: 0.4505 - val_loss: 0.4196\n",
      "Epoch 30/30\n",
      "11610/11610 [==============================] - 1s 108us/sample - loss: 0.4503 - val_loss: 0.4197\n"
     ]
    }
   ],
   "source": [
    "history = model.fit(x_train,y_train, epochs=30, validation_data=(x_valid,y_valid))"
   ]
  },
  {
   "cell_type": "code",
   "execution_count": 26,
   "metadata": {},
   "outputs": [
    {
     "data": {
      "text/plain": [
       "(0.0, 1.0)"
      ]
     },
     "execution_count": 26,
     "metadata": {},
     "output_type": "execute_result"
    },
    {
     "data": {
      "image/png": "[encoded data removed]",
      "text/plain": [
       "<Figure size 576x360 with 1 Axes>"
      ]
     },
     "metadata": {
      "needs_background": "light"
     },
     "output_type": "display_data"
    }
   ],
   "source": [
    "pd.DataFrame(history.history).plot(figsize=(8,5))\n",
    "plt.grid(True)\n",
    "plt.gca().set_ylim(0,1) "
   ]
  },
  {
   "cell_type": "code",
   "execution_count": 27,
   "metadata": {},
   "outputs": [
    {
     "name": "stdout",
     "output_type": "stream",
     "text": [
      "5160/5160 [==============================] - 0s 73us/sample - loss: 0.4774\n"
     ]
    }
   ],
   "source": [
    "mse_test=model.evaluate(x_test, y_test)"
   ]
  },
  {
   "cell_type": "code",
   "execution_count": 28,
   "metadata": {},
   "outputs": [
    {
     "data": {
      "text/plain": [
       "0.47736493238182953"
      ]
     },
     "execution_count": 28,
     "metadata": {},
     "output_type": "execute_result"
    }
   ],
   "source": [
    "mse_test"
   ]
  },
  {
   "cell_type": "markdown",
   "metadata": {},
   "source": [
    "### But what if you want to send a subset of the features through the wide path and a different subset (possibly overlapping) through the deep path"
   ]
  },
  {
   "attachments": {
    "image.png": {
     "image/png": "[encoded data removed]"
    }
   },
   "cell_type": "markdown",
   "metadata": {},
   "source": [
    "For example, suppose we want to send five features through the wide path (features 0 to 4), and six features through the\n",
    "deep path (features 2 to 7):\n",
    "![image.png](attachment:image.png)"
   ]
  },
  {
   "cell_type": "code",
   "execution_count": 30,
   "metadata": {},
   "outputs": [],
   "source": [
    "input_A = keras.layers.Input(shape=[5], name=\"wide_input\")\n",
    "input_B = keras.layers.Input(shape=[6], name=\"deep_input\")\n",
    "hidden1 = keras.layers.Dense(30, activation=\"relu\")(input_B)\n",
    "hidden2 = keras.layers.Dense(30, activation=\"relu\")(hidden1)\n",
    "concat = keras.layers.concatenate([input_A, hidden2])\n",
    "output = keras.layers.Dense(1, name='output')(concat)\n",
    "model = keras.Model(inputs=[input_A,input_B], outputs=[output])"
   ]
  },
  {
   "cell_type": "code",
   "execution_count": 33,
   "metadata": {},
   "outputs": [],
   "source": [
    "model.compile(loss=\"mse\", optimizer=keras.optimizers.SGD(lr=1e-3))\n"
   ]
  },
  {
   "cell_type": "code",
   "execution_count": 34,
   "metadata": {},
   "outputs": [],
   "source": [
    "x_train_A, x_train_B = x_train[:, :5], x_train[:, 2:]\n",
    "x_valid_A, x_valid_B = x_valid[:, :5], x_valid[:, 2:]\n",
    "x_test_A, x_test_B = x_test[:, :5], x_test[:, 2:]\n",
    "x_new_A, x_new_B =  x_test_A[:3], x_test_B[:3]"
   ]
  },
  {
   "cell_type": "code",
   "execution_count": 35,
   "metadata": {},
   "outputs": [
    {
     "name": "stdout",
     "output_type": "stream",
     "text": [
      "Train on 11610 samples, validate on 3870 samples\n",
      "Epoch 1/20\n",
      "11610/11610 [==============================] - 3s 218us/sample - loss: 2.7349 - val_loss: 1.0909\n",
      "Epoch 2/20\n",
      "11610/11610 [==============================] - 2s 139us/sample - loss: 0.9156 - val_loss: 0.6806\n",
      "Epoch 3/20\n",
      "11610/11610 [==============================] - 2s 143us/sample - loss: 0.6985 - val_loss: 0.5807\n",
      "Epoch 4/20\n",
      "11610/11610 [==============================] - 2s 145us/sample - loss: 0.6270 - val_loss: 0.5463\n",
      "Epoch 5/20\n",
      "11610/11610 [==============================] - 2s 141us/sample - loss: 0.5909 - val_loss: 0.5195\n",
      "Epoch 6/20\n",
      "11610/11610 [==============================] - 2s 147us/sample - loss: 0.5671 - val_loss: 0.5018\n",
      "Epoch 7/20\n",
      "11610/11610 [==============================] - 2s 168us/sample - loss: 0.5484 - val_loss: 0.4897\n",
      "Epoch 8/20\n",
      "11610/11610 [==============================] - 2s 151us/sample - loss: 0.5339 - val_loss: 0.4831\n",
      "Epoch 9/20\n",
      "11610/11610 [==============================] - 2s 142us/sample - loss: 0.5214 - val_loss: 0.4766\n",
      "Epoch 10/20\n",
      "11610/11610 [==============================] - 2s 145us/sample - loss: 0.5103 - val_loss: 0.4625\n",
      "Epoch 11/20\n",
      "11610/11610 [==============================] - 2s 140us/sample - loss: 0.5004 - val_loss: 0.4716\n",
      "Epoch 12/20\n",
      "11610/11610 [==============================] - 2s 170us/sample - loss: 0.4948 - val_loss: 0.4642\n",
      "Epoch 13/20\n",
      "11610/11610 [==============================] - 1s 109us/sample - loss: 0.4877 - val_loss: 0.4589\n",
      "Epoch 14/20\n",
      "11610/11610 [==============================] - 2s 130us/sample - loss: 0.4832 - val_loss: 0.4604\n",
      "Epoch 15/20\n",
      "11610/11610 [==============================] - 2s 171us/sample - loss: 0.4764 - val_loss: 0.4724\n",
      "Epoch 16/20\n",
      "11610/11610 [==============================] - 2s 176us/sample - loss: 0.4727 - val_loss: 0.4716\n",
      "Epoch 17/20\n",
      "11610/11610 [==============================] - 2s 158us/sample - loss: 0.4671 - val_loss: 0.4723\n",
      "Epoch 18/20\n",
      "11610/11610 [==============================] - 2s 162us/sample - loss: 0.4640 - val_loss: 0.4799\n",
      "Epoch 19/20\n",
      "11610/11610 [==============================] - 2s 160us/sample - loss: 0.4619 - val_loss: 0.4834\n",
      "Epoch 20/20\n",
      "11610/11610 [==============================] - 2s 151us/sample - loss: 0.4579 - val_loss: 0.4861\n"
     ]
    }
   ],
   "source": [
    "history = model.fit((x_train_A, x_train_B), y_train, epochs=20, validation_data=((x_valid_A,x_valid_B),y_valid))"
   ]
  },
  {
   "cell_type": "code",
   "execution_count": 36,
   "metadata": {},
   "outputs": [
    {
     "name": "stdout",
     "output_type": "stream",
     "text": [
      "5160/5160 [==============================] - 0s 80us/sample - loss: 0.4616\n"
     ]
    }
   ],
   "source": [
    "mse= model.evaluate((x_test_A, x_test_B), y_test)"
   ]
  },
  {
   "cell_type": "code",
   "execution_count": 37,
   "metadata": {},
   "outputs": [
    {
     "data": {
      "text/plain": [
       "0.46158138786175457"
      ]
     },
     "execution_count": 37,
     "metadata": {},
     "output_type": "execute_result"
    }
   ],
   "source": [
    "mse"
   ]
  },
  {
   "cell_type": "code",
   "execution_count": 38,
   "metadata": {},
   "outputs": [],
   "source": [
    "ypred = model.predict((x_new_A,x_new_B))"
   ]
  },
  {
   "cell_type": "code",
   "execution_count": 39,
   "metadata": {},
   "outputs": [
    {
     "data": {
      "text/plain": [
       "array([[0.7144141],\n",
       "       [2.5939922],\n",
       "       [1.4765222]], dtype=float32)"
      ]
     },
     "execution_count": 39,
     "metadata": {},
     "output_type": "execute_result"
    }
   ],
   "source": [
    "ypred"
   ]
  },
  {
   "cell_type": "code",
   "execution_count": 40,
   "metadata": {},
   "outputs": [
    {
     "data": {
      "text/plain": [
       "array([0.695, 0.55 , 1.313])"
      ]
     },
     "execution_count": 40,
     "metadata": {},
     "output_type": "execute_result"
    }
   ],
   "source": [
    "y_test[:3]"
   ]
  },
  {
   "cell_type": "markdown",
   "metadata": {},
   "source": [
    "# Using the Subclassing API to Build Dynamic Models"
   ]
  },
  {
   "cell_type": "markdown",
   "metadata": {},
   "source": [
    "### Simply subclass the Model class, create the layers you need in the constructor, and use them to perform the computations you want in the call() method."
   ]
  },
  {
   "cell_type": "code",
   "execution_count": 56,
   "metadata": {},
   "outputs": [],
   "source": [
    "class WideAndDeepModel(keras.Model):\n",
    "    def __init__(self, units=30, activation=\"relu\", **kwargs):\n",
    "        super().__init__(**kwargs) #handles standard args e.g. name\n",
    "        self.hidden1= keras.layers.Dense(units, activation=activation)\n",
    "        self.hidden2= keras.layers.Dense(units, activation=activation)\n",
    "        self.main_output = keras.layers.Dense(1)\n",
    "        self.aux_output = keras.layers.Dense(1)\n",
    "    \n",
    "    def call(self, inputs):\n",
    "        input_A, input_B = inputs\n",
    "        hidden1 = self.hidden1(input_B)\n",
    "        hidden2 = self.hidden2(hidden1)\n",
    "        concat = keras.layers.concatenate([input_A, hidden2])\n",
    "        main_output = self.main_output(concat)\n",
    "        aux_output = self.aux_output(hidden2)\n",
    "        \n",
    "        return main_output, aux_output\n",
    "    \n",
    "    \n",
    "model = WideAndDeepModel()"
   ]
  },
  {
   "cell_type": "code",
   "execution_count": 57,
   "metadata": {},
   "outputs": [],
   "source": [
    "model.compile(loss=[\"mse\", \"mse\"], loss_weights=[0.9, 0.1], optimizer=\"sgd\")"
   ]
  },
  {
   "cell_type": "markdown",
   "metadata": {},
   "source": [
    "So instead of passing y_train, we need to pass (y_train, y_train) (and the same goes for y_valid and y_test):"
   ]
  },
  {
   "cell_type": "code",
   "execution_count": 74,
   "metadata": {},
   "outputs": [
    {
     "name": "stdout",
     "output_type": "stream",
     "text": [
      "Train on 11610 samples, validate on 3870 samples\n",
      "Epoch 1/10\n",
      "11610/11610 [==============================] - 2s 165us/sample - loss: 0.3678 - output_1_loss: 0.3516 - output_2_loss: 0.5123 - val_loss: 8.7882 - val_output_1_loss: 9.0491 - val_output_2_loss: 6.4484\n",
      "Epoch 2/10\n",
      "11610/11610 [==============================] - 2s 163us/sample - loss: 0.3664 - output_1_loss: 0.3509 - output_2_loss: 0.5065 - val_loss: 10.1652 - val_output_1_loss: 10.4828 - val_output_2_loss: 7.3159\n",
      "Epoch 3/10\n",
      "11610/11610 [==============================] - 2s 164us/sample - loss: 0.3637 - output_1_loss: 0.3484 - output_2_loss: 0.5007 - val_loss: 10.5894 - val_output_1_loss: 10.9039 - val_output_2_loss: 7.7683\n",
      "Epoch 4/10\n",
      "11610/11610 [==============================] - 2s 171us/sample - loss: 0.3609 - output_1_loss: 0.3460 - output_2_loss: 0.4948 - val_loss: 10.2619 - val_output_1_loss: 10.5358 - val_output_2_loss: 7.8055\n",
      "Epoch 5/10\n",
      "11610/11610 [==============================] - 2s 202us/sample - loss: 0.3593 - output_1_loss: 0.3448 - output_2_loss: 0.4891 - val_loss: 11.3914 - val_output_1_loss: 11.6966 - val_output_2_loss: 8.6550\n",
      "Epoch 6/10\n",
      "11610/11610 [==============================] - 3s 223us/sample - loss: 0.3582 - output_1_loss: 0.3441 - output_2_loss: 0.4853 - val_loss: 11.8493 - val_output_1_loss: 12.1558 - val_output_2_loss: 9.1013\n",
      "Epoch 7/10\n",
      "11610/11610 [==============================] - 2s 168us/sample - loss: 0.3580 - output_1_loss: 0.3439 - output_2_loss: 0.4851 - val_loss: 13.4894 - val_output_1_loss: 13.8410 - val_output_2_loss: 10.3362\n",
      "Epoch 8/10\n",
      "11610/11610 [==============================] - 2s 133us/sample - loss: 0.3515 - output_1_loss: 0.3377 - output_2_loss: 0.4755 - val_loss: 13.4234 - val_output_1_loss: 13.7537 - val_output_2_loss: 10.4619\n",
      "Epoch 9/10\n",
      "11610/11610 [==============================] - 2s 135us/sample - loss: 0.3517 - output_1_loss: 0.3382 - output_2_loss: 0.4735 - val_loss: 14.0572 - val_output_1_loss: 14.3754 - val_output_2_loss: 11.2047\n",
      "Epoch 10/10\n",
      "11610/11610 [==============================] - 1s 126us/sample - loss: 0.3631 - output_1_loss: 0.3512 - output_2_loss: 0.4717 - val_loss: 14.3424 - val_output_1_loss: 14.6622 - val_output_2_loss: 11.4761\n"
     ]
    }
   ],
   "source": [
    "history = model.fit([x_train_A, x_train_B], [y_train, y_train], \n",
    "                    epochs=10, \n",
    "                    validation_data=([x_valid_A, x_valid_B], [y_valid, y_valid]))"
   ]
  },
  {
   "cell_type": "code",
   "execution_count": 59,
   "metadata": {},
   "outputs": [
    {
     "name": "stdout",
     "output_type": "stream",
     "text": [
      "5160/5160 [==============================] - 1s 99us/sample - loss: 0.7487 - output_1_loss: 0.7488 - output_2_loss: 0.7397\n"
     ]
    }
   ],
   "source": [
    "total_loss, main_loss, aux_loss = model.evaluate([x_test_A, x_test_B], [y_test, y_test])"
   ]
  },
  {
   "cell_type": "code",
   "execution_count": 67,
   "metadata": {},
   "outputs": [
    {
     "name": "stdout",
     "output_type": "stream",
     "text": [
      "Total loss:0.75 ,Main loss:0.75 ,AUX loss:0.7397376894950867  \n"
     ]
    }
   ],
   "source": [
    "print(\"Total loss:{} ,Main loss:{} ,AUX loss:{}  \".format(total_loss.round(2), main_loss.round(2), aux_loss))\n"
   ]
  },
  {
   "cell_type": "code",
   "execution_count": 69,
   "metadata": {},
   "outputs": [],
   "source": [
    "y_pred_main, y_pred_aux = model.predict([x_new_A, x_new_B])"
   ]
  },
  {
   "cell_type": "code",
   "execution_count": 73,
   "metadata": {},
   "outputs": [
    {
     "data": {
      "text/plain": [
       "(0.0, 1.0)"
      ]
     },
     "execution_count": 73,
     "metadata": {},
     "output_type": "execute_result"
    },
    {
     "data": {
      "image/png": "[encoded data removed]",
      "text/plain": [
       "<Figure size 576x360 with 1 Axes>"
      ]
     },
     "metadata": {
      "needs_background": "light"
     },
     "output_type": "display_data"
    }
   ],
   "source": [
    "pd.DataFrame(history.history).plot(figsize=(8,5))\n",
    "plt.grid(True)\n",
    "plt.gca().set_ylim(0,1) "
   ]
  },
  {
   "cell_type": "markdown",
   "metadata": {},
   "source": [
    "# Using TensorBoard for Visualization\n",
    "\n"
   ]
  },
  {
   "cell_type": "markdown",
   "metadata": {},
   "source": [
    "To use it, you must modify your program so that it outputs the data you want to visualize to special binary log files called event files. Each binary data record is called a summary.\\\n",
    "Let’s start by defining the root log directory we will use for our TensorBoard logs, plus a small function that will generate a subdirectory path based on the current date and time so that it’s different at every run."
   ]
  },
  {
   "cell_type": "code",
   "execution_count": 75,
   "metadata": {},
   "outputs": [],
   "source": [
    "import os\n",
    "root_logdir = os.path.join(os.curdir, \"my_logs\")"
   ]
  },
  {
   "cell_type": "code",
   "execution_count": 76,
   "metadata": {},
   "outputs": [],
   "source": [
    "def get_run_logdir():\n",
    "    import time\n",
    "    run_id = time.strftime(\"run_%Y_%m_%d-%H_%M_%S\")\n",
    "    return os.path.join(root_logdir, run_id)"
   ]
  },
  {
   "cell_type": "code",
   "execution_count": 77,
   "metadata": {},
   "outputs": [],
   "source": [
    "run_logdir = get_run_logdir() # e.g., './my_logs/run_2019_06_07-15_15_22'"
   ]
  },
  {
   "cell_type": "code",
   "execution_count": 78,
   "metadata": {},
   "outputs": [],
   "source": [
    "#The good news is that Keras provides a nice TensorBoard() callback:"
   ]
  },
  {
   "cell_type": "code",
   "execution_count": 79,
   "metadata": {},
   "outputs": [
    {
     "name": "stdout",
     "output_type": "stream",
     "text": [
      "Train on 11610 samples, validate on 3870 samples\n",
      "Epoch 1/20\n",
      "   32/11610 [..............................] - ETA: 27s - loss: 0.2535 - output_1_loss: 0.2495 - output_2_loss: 0.2901WARNING:tensorflow:Method (on_train_batch_end) is slow compared to the batch update (0.172998). Check your callbacks.\n",
      "11610/11610 [==============================] - 3s 258us/sample - loss: 0.3508 - output_1_loss: 0.3379 - output_2_loss: 0.4662 - val_loss: 15.1503 - val_output_1_loss: 15.4751 - val_output_2_loss: 12.2407\n",
      "Epoch 2/20\n",
      "11610/11610 [==============================] - 2s 169us/sample - loss: 0.3465 - output_1_loss: 0.3337 - output_2_loss: 0.4615 - val_loss: 15.8185 - val_output_1_loss: 16.1411 - val_output_2_loss: 12.9284\n",
      "Epoch 3/20\n",
      "11610/11610 [==============================] - 2s 155us/sample - loss: 0.3471 - output_1_loss: 0.3345 - output_2_loss: 0.4603 - val_loss: 15.7149 - val_output_1_loss: 16.0014 - val_output_2_loss: 13.1488\n",
      "Epoch 4/20\n",
      "11610/11610 [==============================] - 2s 148us/sample - loss: 0.3427 - output_1_loss: 0.3302 - output_2_loss: 0.4541 - val_loss: 16.6302 - val_output_1_loss: 16.9455 - val_output_2_loss: 13.8059\n",
      "Epoch 5/20\n",
      "11610/11610 [==============================] - 2s 148us/sample - loss: 0.3421 - output_1_loss: 0.3299 - output_2_loss: 0.4514 - val_loss: 16.6922 - val_output_1_loss: 16.9631 - val_output_2_loss: 14.2676\n",
      "Epoch 6/20\n",
      "11610/11610 [==============================] - 2s 149us/sample - loss: 0.3408 - output_1_loss: 0.3292 - output_2_loss: 0.4473 - val_loss: 18.3138 - val_output_1_loss: 18.6598 - val_output_2_loss: 15.2146\n",
      "Epoch 7/20\n",
      "11610/11610 [==============================] - 2s 144us/sample - loss: 0.3430 - output_1_loss: 0.3315 - output_2_loss: 0.4463 - val_loss: 18.9180 - val_output_1_loss: 19.2351 - val_output_2_loss: 16.0787\n",
      "Epoch 8/20\n",
      "11610/11610 [==============================] - 2s 145us/sample - loss: 0.3397 - output_1_loss: 0.3282 - output_2_loss: 0.4426 - val_loss: 18.7516 - val_output_1_loss: 19.0542 - val_output_2_loss: 16.0434\n",
      "Epoch 9/20\n",
      "11610/11610 [==============================] - 2s 140us/sample - loss: 0.3386 - output_1_loss: 0.3275 - output_2_loss: 0.4403 - val_loss: 18.8263 - val_output_1_loss: 19.0763 - val_output_2_loss: 16.5898\n",
      "Epoch 10/20\n",
      "11610/11610 [==============================] - 2s 140us/sample - loss: 0.3378 - output_1_loss: 0.3267 - output_2_loss: 0.4378 - val_loss: 19.1800 - val_output_1_loss: 19.4074 - val_output_2_loss: 17.1489\n",
      "Epoch 11/20\n",
      "11610/11610 [==============================] - 2s 140us/sample - loss: 0.3353 - output_1_loss: 0.3243 - output_2_loss: 0.4342 - val_loss: 18.4292 - val_output_1_loss: 18.5932 - val_output_2_loss: 16.9674\n",
      "Epoch 12/20\n",
      "11610/11610 [==============================] - 2s 143us/sample - loss: 0.3364 - output_1_loss: 0.3256 - output_2_loss: 0.4336 - val_loss: 19.5458 - val_output_1_loss: 19.7351 - val_output_2_loss: 17.8574\n",
      "Epoch 13/20\n",
      "11610/11610 [==============================] - 2s 144us/sample - loss: 0.3590 - output_1_loss: 0.3502 - output_2_loss: 0.4397 - val_loss: 20.7800 - val_output_1_loss: 20.9446 - val_output_2_loss: 19.3142\n",
      "Epoch 14/20\n",
      "11610/11610 [==============================] - 2s 147us/sample - loss: 0.3350 - output_1_loss: 0.3243 - output_2_loss: 0.4310 - val_loss: 19.8069 - val_output_1_loss: 19.9018 - val_output_2_loss: 18.9680\n",
      "Epoch 15/20\n",
      "11610/11610 [==============================] - 2s 144us/sample - loss: 0.3341 - output_1_loss: 0.3238 - output_2_loss: 0.4263 - val_loss: 21.4931 - val_output_1_loss: 21.6502 - val_output_2_loss: 20.0941\n",
      "Epoch 16/20\n",
      "11610/11610 [==============================] - 2s 144us/sample - loss: 0.3316 - output_1_loss: 0.3213 - output_2_loss: 0.4240 - val_loss: 21.2025 - val_output_1_loss: 21.3141 - val_output_2_loss: 20.2126\n",
      "Epoch 17/20\n",
      "11610/11610 [==============================] - 2s 143us/sample - loss: 0.3322 - output_1_loss: 0.3222 - output_2_loss: 0.4223 - val_loss: 20.8352 - val_output_1_loss: 20.8936 - val_output_2_loss: 20.3242\n",
      "Epoch 18/20\n",
      "11610/11610 [==============================] - 2s 140us/sample - loss: 0.3305 - output_1_loss: 0.3204 - output_2_loss: 0.4210 - val_loss: 21.2759 - val_output_1_loss: 21.3262 - val_output_2_loss: 20.8390\n",
      "Epoch 19/20\n",
      "11610/11610 [==============================] - 2s 140us/sample - loss: 0.3299 - output_1_loss: 0.3200 - output_2_loss: 0.4180 - val_loss: 22.3169 - val_output_1_loss: 22.3512 - val_output_2_loss: 22.0248\n",
      "Epoch 20/20\n",
      "11610/11610 [==============================] - 2s 141us/sample - loss: 0.3298 - output_1_loss: 0.3200 - output_2_loss: 0.4169 - val_loss: 21.5051 - val_output_1_loss: 21.4984 - val_output_2_loss: 21.5806\n"
     ]
    }
   ],
   "source": [
    "tensorboard_cb = keras.callbacks.TensorBoard(run_logdir)\n",
    "\n",
    "history = model.fit([x_train_A, x_train_B], [y_train, y_train], \n",
    "                    epochs=20, \n",
    "                    validation_data=([x_valid_A, x_valid_B], [y_valid, y_valid]),\n",
    "                    callbacks=[tensorboard_cb])\n"
   ]
  },
  {
   "cell_type": "markdown",
   "metadata": {},
   "source": [
    "Next, run the following command at the root of the project (or from anywhere else, as long as you point to the appropriate log directory):\\\n",
    "                $ tensorboard --logdir=./my_logs --port=6006\\\n",
    "                \n",
    "                TensorBoard 2.0.0 at http://mycomputer.local:6006/ (Press CTRL+C to quit)"
   ]
  },
  {
   "cell_type": "code",
   "execution_count": 80,
   "metadata": {},
   "outputs": [
    {
     "name": "stdout",
     "output_type": "stream",
     "text": [
      "Train on 11610 samples, validate on 3870 samples\n",
      "Epoch 1/20\n",
      "11610/11610 [==============================] - 3s 286us/sample - loss: 0.3312 - output_1_loss: 0.3217 - output_2_loss: 0.4167 - val_loss: 22.5015 - val_output_1_loss: 22.4810 - val_output_2_loss: 22.7013\n",
      "Epoch 2/20\n",
      "11610/11610 [==============================] - 2s 185us/sample - loss: 0.3284 - output_1_loss: 0.3188 - output_2_loss: 0.4145 - val_loss: 21.6109 - val_output_1_loss: 21.5321 - val_output_2_loss: 22.3366\n",
      "Epoch 3/20\n",
      "11610/11610 [==============================] - 2s 159us/sample - loss: 0.3272 - output_1_loss: 0.3179 - output_2_loss: 0.4109 - val_loss: 22.8313 - val_output_1_loss: 22.7733 - val_output_2_loss: 23.3688\n",
      "Epoch 4/20\n",
      "11610/11610 [==============================] - 2s 156us/sample - loss: 0.3278 - output_1_loss: 0.3185 - output_2_loss: 0.4117 - val_loss: 23.4336 - val_output_1_loss: 23.3683 - val_output_2_loss: 24.0377\n",
      "Epoch 5/20\n",
      "11610/11610 [==============================] - 2s 156us/sample - loss: 0.3266 - output_1_loss: 0.3175 - output_2_loss: 0.4089 - val_loss: 23.9037 - val_output_1_loss: 23.8208 - val_output_2_loss: 24.6658\n",
      "Epoch 6/20\n",
      "11610/11610 [==============================] - 2s 165us/sample - loss: 0.3272 - output_1_loss: 0.3182 - output_2_loss: 0.4082 - val_loss: 24.0731 - val_output_1_loss: 23.9555 - val_output_2_loss: 25.1466\n",
      "Epoch 7/20\n",
      "11610/11610 [==============================] - 2s 166us/sample - loss: 0.3245 - output_1_loss: 0.3155 - output_2_loss: 0.4071 - val_loss: 24.2132 - val_output_1_loss: 24.0774 - val_output_2_loss: 25.4519\n",
      "Epoch 8/20\n",
      "11610/11610 [==============================] - 2s 166us/sample - loss: 0.3268 - output_1_loss: 0.3178 - output_2_loss: 0.4069 - val_loss: 24.1002 - val_output_1_loss: 23.9164 - val_output_2_loss: 25.7691\n",
      "Epoch 9/20\n",
      "11610/11610 [==============================] - 2s 150us/sample - loss: 0.3240 - output_1_loss: 0.3151 - output_2_loss: 0.4042 - val_loss: 24.7502 - val_output_1_loss: 24.5844 - val_output_2_loss: 26.2585\n",
      "Epoch 10/20\n",
      "11610/11610 [==============================] - 2s 168us/sample - loss: 0.3233 - output_1_loss: 0.3143 - output_2_loss: 0.4036 - val_loss: 23.8865 - val_output_1_loss: 23.6611 - val_output_2_loss: 25.9315\n",
      "Epoch 11/20\n",
      "11610/11610 [==============================] - 2s 211us/sample - loss: 0.3240 - output_1_loss: 0.3151 - output_2_loss: 0.4037 - val_loss: 24.2386 - val_output_1_loss: 23.9914 - val_output_2_loss: 26.4793\n",
      "Epoch 12/20\n",
      "11610/11610 [==============================] - 2s 151us/sample - loss: 0.3245 - output_1_loss: 0.3160 - output_2_loss: 0.4008 - val_loss: 25.6731 - val_output_1_loss: 25.4424 - val_output_2_loss: 27.7664\n",
      "Epoch 13/20\n",
      "11610/11610 [==============================] - 2s 178us/sample - loss: 0.3222 - output_1_loss: 0.3135 - output_2_loss: 0.4010 - val_loss: 24.8307 - val_output_1_loss: 24.5598 - val_output_2_loss: 27.2856\n",
      "Epoch 14/20\n",
      "11610/11610 [==============================] - 2s 169us/sample - loss: 0.3225 - output_1_loss: 0.3141 - output_2_loss: 0.3979 - val_loss: 24.6348 - val_output_1_loss: 24.3321 - val_output_2_loss: 27.3748\n",
      "Epoch 15/20\n",
      "11610/11610 [==============================] - 2s 151us/sample - loss: 0.3191 - output_1_loss: 0.3105 - output_2_loss: 0.3963 - val_loss: 25.5052 - val_output_1_loss: 25.2138 - val_output_2_loss: 28.1454\n",
      "Epoch 16/20\n",
      "11610/11610 [==============================] - 2s 178us/sample - loss: 0.3202 - output_1_loss: 0.3118 - output_2_loss: 0.3963 - val_loss: 24.4152 - val_output_1_loss: 24.0678 - val_output_2_loss: 27.5585\n",
      "Epoch 17/20\n",
      "11610/11610 [==============================] - 2s 153us/sample - loss: 0.3196 - output_1_loss: 0.3112 - output_2_loss: 0.3952 - val_loss: 25.3709 - val_output_1_loss: 25.0214 - val_output_2_loss: 28.5336\n",
      "Epoch 18/20\n",
      "11610/11610 [==============================] - 2s 153us/sample - loss: 0.3184 - output_1_loss: 0.3101 - output_2_loss: 0.3926 - val_loss: 25.5098 - val_output_1_loss: 25.1694 - val_output_2_loss: 28.5895\n",
      "Epoch 19/20\n",
      "11610/11610 [==============================] - 2s 164us/sample - loss: 0.3199 - output_1_loss: 0.3119 - output_2_loss: 0.3917 - val_loss: 26.5497 - val_output_1_loss: 26.2046 - val_output_2_loss: 29.6720\n",
      "Epoch 20/20\n",
      "11610/11610 [==============================] - 2s 166us/sample - loss: 0.3180 - output_1_loss: 0.3099 - output_2_loss: 0.3916 - val_loss: 27.9588 - val_output_1_loss: 27.6188 - val_output_2_loss: 31.0363\n"
     ]
    }
   ],
   "source": [
    "run_logdir = get_run_logdir()\n",
    "\n",
    "tensorboard_cb = keras.callbacks.TensorBoard(run_logdir)\n",
    "\n",
    "history = model.fit([x_train_A, x_train_B], [y_train, y_train], \n",
    "                    epochs=20, \n",
    "                    validation_data=([x_valid_A, x_valid_B], [y_valid, y_valid]),\n",
    "                    callbacks=[tensorboard_cb])"
   ]
  },
  {
   "cell_type": "code",
   "execution_count": null,
   "metadata": {},
   "outputs": [],
   "source": []
  }
 ],
 "metadata": {
  "kernelspec": {
   "display_name": "Python 3",
   "language": "python",
   "name": "python3"
  },
  "language_info": {
   "codemirror_mode": {
    "name": "ipython",
    "version": 3
   },
   "file_extension": ".py",
   "mimetype": "text/x-python",
   "name": "python",
   "nbconvert_exporter": "python",
   "pygments_lexer": "ipython3",
   "version": "3.7.9"
  }
 },
 "nbformat": 4,
 "nbformat_minor": 4
}
