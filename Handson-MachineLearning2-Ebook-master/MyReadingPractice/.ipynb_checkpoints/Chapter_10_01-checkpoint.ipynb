{
 "cells": [
  {
   "cell_type": "markdown",
   "metadata": {},
   "source": [
    "### Chapter10_Pgae287\n",
    "Iris dataset, Perceptron with SckitLearn"
   ]
  },
  {
   "cell_type": "code",
   "execution_count": 6,
   "metadata": {},
   "outputs": [],
   "source": [
    "import numpy as np\n",
    "from sklearn.datasets import load_iris\n",
    "from sklearn.linear_model import Perceptron"
   ]
  },
  {
   "cell_type": "code",
   "execution_count": 7,
   "metadata": {},
   "outputs": [],
   "source": [
    "iris=load_iris()\n",
    "X=iris.data[:,(2,3)] #petal length, petal width\n",
    "y=(iris.target==0).astype(np.int) #Iris Stosa"
   ]
  },
  {
   "cell_type": "code",
   "execution_count": 9,
   "metadata": {},
   "outputs": [
    {
     "data": {
      "text/plain": [
       "Perceptron()"
      ]
     },
     "execution_count": 9,
     "metadata": {},
     "output_type": "execute_result"
    }
   ],
   "source": [
    "per_clf=Perceptron()\n",
    "per_clf.fit(X,y)"
   ]
  },
  {
   "cell_type": "code",
   "execution_count": 11,
   "metadata": {},
   "outputs": [
    {
     "name": "stdout",
     "output_type": "stream",
     "text": [
      "[0]\n"
     ]
    }
   ],
   "source": [
    "y_pred = per_clf.predict([[2, 0.5]])\n",
    "print(y_pred)"
   ]
  },
  {
   "cell_type": "markdown",
   "metadata": {},
   "source": [
    "## 1-Building an Image Classifier Using the Sequential API"
   ]
  },
  {
   "cell_type": "code",
   "execution_count": 12,
   "metadata": {},
   "outputs": [],
   "source": [
    "import tensorflow as tf\n",
    "from tensorflow import keras"
   ]
  },
  {
   "cell_type": "code",
   "execution_count": 13,
   "metadata": {},
   "outputs": [
    {
     "name": "stdout",
     "output_type": "stream",
     "text": [
      "2.1.0\n",
      "2.2.4-tf\n"
     ]
    }
   ],
   "source": [
    "print(tf.__version__)\n",
    "print(keras.__version__)"
   ]
  },
  {
   "cell_type": "markdown",
   "metadata": {},
   "source": [
    "Using Keras to load the dataset Fashion MNIST"
   ]
  },
  {
   "cell_type": "code",
   "execution_count": 15,
   "metadata": {},
   "outputs": [
    {
     "name": "stdout",
     "output_type": "stream",
     "text": [
      "Downloading data from https://storage.googleapis.com/tensorflow/tf-keras-datasets/train-labels-idx1-ubyte.gz\n",
      "32768/29515 [=================================] - 0s 1us/step\n",
      "Downloading data from https://storage.googleapis.com/tensorflow/tf-keras-datasets/train-images-idx3-ubyte.gz\n",
      "26427392/26421880 [==============================] - 3s 0us/step\n",
      "Downloading data from https://storage.googleapis.com/tensorflow/tf-keras-datasets/t10k-labels-idx1-ubyte.gz\n",
      "8192/5148 [===============================================] - 0s 0us/step\n",
      "Downloading data from https://storage.googleapis.com/tensorflow/tf-keras-datasets/t10k-images-idx3-ubyte.gz\n",
      "4423680/4422102 [==============================] - 1s 0us/step\n"
     ]
    }
   ],
   "source": [
    "fashion_mnist=keras.datasets.fashion_mnist\n",
    "(x_train_full, y_train_full), (x_test, y_test) = fashion_mnist.load_data()"
   ]
  },
  {
   "cell_type": "code",
   "execution_count": 16,
   "metadata": {},
   "outputs": [
    {
     "name": "stdout",
     "output_type": "stream",
     "text": [
      "(60000, 28, 28)\n",
      "(60000,)\n"
     ]
    }
   ],
   "source": [
    "print(x_train_full.shape)\n",
    "print(y_train_full.shape)"
   ]
  },
  {
   "cell_type": "markdown",
   "metadata": {},
   "source": [
    "Creating validation set and scaling values between [0,1] because using of Gradien Descent SGD"
   ]
  },
  {
   "cell_type": "code",
   "execution_count": 18,
   "metadata": {},
   "outputs": [],
   "source": [
    "x_valid, x_train= x_train_full[:5000]/255.0, x_train_full[5000:]/255.0\n",
    "y_valid, y_train= y_train_full[:5000], y_train_full[5000:]"
   ]
  },
  {
   "cell_type": "code",
   "execution_count": 19,
   "metadata": {},
   "outputs": [],
   "source": [
    "# List of class names to know what we are dealing with:\n",
    "class_names = [\"T-shirt/top\", \"Trouser\", \"Pullover\", \"Dress\", \"Coat\",\"Sandal\", \"Shirt\", \"Sneaker\", \"Bag\", \"Ankle boot\"]"
   ]
  },
  {
   "cell_type": "code",
   "execution_count": 20,
   "metadata": {},
   "outputs": [
    {
     "data": {
      "text/plain": [
       "'Coat'"
      ]
     },
     "execution_count": 20,
     "metadata": {},
     "output_type": "execute_result"
    }
   ],
   "source": [
    "#Example\n",
    "class_names[y_train[0]]"
   ]
  },
  {
   "cell_type": "markdown",
   "metadata": {},
   "source": [
    "### 1-1 Creating the model using the Sequential API\n",
    "Now let’s build the neural network! Here is a classification MLP with two hidden layers:"
   ]
  },
  {
   "cell_type": "code",
   "execution_count": 23,
   "metadata": {},
   "outputs": [],
   "source": [
    "model =  keras.models.Sequential()\n",
    "model.add(keras.layers.Flatten(input_shape=[28,28]))\n",
    "model.add(keras.layers.Dense(300, activation='relu'))\n",
    "model.add(keras.layers.Dense(100, activation='relu'))\n",
    "model.add(keras.layers.Dense(10, activation='softmax'))"
   ]
  },
  {
   "cell_type": "code",
   "execution_count": 24,
   "metadata": {},
   "outputs": [
    {
     "name": "stdout",
     "output_type": "stream",
     "text": [
      "Model: \"sequential\"\n",
      "_________________________________________________________________\n",
      "Layer (type)                 Output Shape              Param #   \n",
      "=================================================================\n",
      "flatten (Flatten)            (None, 784)               0         \n",
      "_________________________________________________________________\n",
      "dense (Dense)                (None, 300)               235500    \n",
      "_________________________________________________________________\n",
      "dense_1 (Dense)              (None, 100)               30100     \n",
      "_________________________________________________________________\n",
      "dense_2 (Dense)              (None, 10)                1010      \n",
      "=================================================================\n",
      "Total params: 266,610\n",
      "Trainable params: 266,610\n",
      "Non-trainable params: 0\n",
      "_________________________________________________________________\n"
     ]
    }
   ],
   "source": [
    "model.summary()"
   ]
  },
  {
   "cell_type": "code",
   "execution_count": 30,
   "metadata": {},
   "outputs": [
    {
     "name": "stdout",
     "output_type": "stream",
     "text": [
      "[<tensorflow.python.keras.layers.core.Flatten object at 0x00000149986A6C08>, <tensorflow.python.keras.layers.core.Dense object at 0x00000149922AFE08>, <tensorflow.python.keras.layers.core.Dense object at 0x0000014998703F48>, <tensorflow.python.keras.layers.core.Dense object at 0x000001499873AFC8>]\n",
      "\n",
      "Layer 1 Name: dense\n"
     ]
    }
   ],
   "source": [
    "print(model.layers)\n",
    "hidden1=model.layers[1]\n",
    "print('\\nLayer 1 Name:',hidden1.name)"
   ]
  },
  {
   "cell_type": "code",
   "execution_count": 31,
   "metadata": {},
   "outputs": [],
   "source": [
    "weights, biases = hidden1.get_weights()"
   ]
  },
  {
   "cell_type": "code",
   "execution_count": 32,
   "metadata": {},
   "outputs": [
    {
     "data": {
      "text/plain": [
       "array([[-0.06047379,  0.05730952, -0.03838473, ...,  0.05331527,\n",
       "        -0.07087167,  0.03952145],\n",
       "       [ 0.00455524, -0.05110368, -0.07008246, ...,  0.01506792,\n",
       "         0.0641419 ,  0.00560497],\n",
       "       [-0.04751421, -0.03786539,  0.06587604, ...,  0.02020127,\n",
       "         0.06861466,  0.06959505],\n",
       "       ...,\n",
       "       [-0.01380794, -0.04588252, -0.04637612, ..., -0.01759138,\n",
       "         0.02307069,  0.02961806],\n",
       "       [ 0.02922256,  0.0181665 , -0.0275082 , ...,  0.00400035,\n",
       "         0.06986256,  0.03446275],\n",
       "       [ 0.04278965,  0.00916944, -0.02637236, ..., -0.07016554,\n",
       "        -0.0241834 , -0.07286379]], dtype=float32)"
      ]
     },
     "execution_count": 32,
     "metadata": {},
     "output_type": "execute_result"
    }
   ],
   "source": [
    "weights"
   ]
  },
  {
   "cell_type": "code",
   "execution_count": 33,
   "metadata": {},
   "outputs": [
    {
     "data": {
      "text/plain": [
       "array([0., 0., 0., 0., 0., 0., 0., 0., 0., 0., 0., 0., 0., 0., 0., 0., 0.,\n",
       "       0., 0., 0., 0., 0., 0., 0., 0., 0., 0., 0., 0., 0., 0., 0., 0., 0.,\n",
       "       0., 0., 0., 0., 0., 0., 0., 0., 0., 0., 0., 0., 0., 0., 0., 0., 0.,\n",
       "       0., 0., 0., 0., 0., 0., 0., 0., 0., 0., 0., 0., 0., 0., 0., 0., 0.,\n",
       "       0., 0., 0., 0., 0., 0., 0., 0., 0., 0., 0., 0., 0., 0., 0., 0., 0.,\n",
       "       0., 0., 0., 0., 0., 0., 0., 0., 0., 0., 0., 0., 0., 0., 0., 0., 0.,\n",
       "       0., 0., 0., 0., 0., 0., 0., 0., 0., 0., 0., 0., 0., 0., 0., 0., 0.,\n",
       "       0., 0., 0., 0., 0., 0., 0., 0., 0., 0., 0., 0., 0., 0., 0., 0., 0.,\n",
       "       0., 0., 0., 0., 0., 0., 0., 0., 0., 0., 0., 0., 0., 0., 0., 0., 0.,\n",
       "       0., 0., 0., 0., 0., 0., 0., 0., 0., 0., 0., 0., 0., 0., 0., 0., 0.,\n",
       "       0., 0., 0., 0., 0., 0., 0., 0., 0., 0., 0., 0., 0., 0., 0., 0., 0.,\n",
       "       0., 0., 0., 0., 0., 0., 0., 0., 0., 0., 0., 0., 0., 0., 0., 0., 0.,\n",
       "       0., 0., 0., 0., 0., 0., 0., 0., 0., 0., 0., 0., 0., 0., 0., 0., 0.,\n",
       "       0., 0., 0., 0., 0., 0., 0., 0., 0., 0., 0., 0., 0., 0., 0., 0., 0.,\n",
       "       0., 0., 0., 0., 0., 0., 0., 0., 0., 0., 0., 0., 0., 0., 0., 0., 0.,\n",
       "       0., 0., 0., 0., 0., 0., 0., 0., 0., 0., 0., 0., 0., 0., 0., 0., 0.,\n",
       "       0., 0., 0., 0., 0., 0., 0., 0., 0., 0., 0., 0., 0., 0., 0., 0., 0.,\n",
       "       0., 0., 0., 0., 0., 0., 0., 0., 0., 0., 0.], dtype=float32)"
      ]
     },
     "execution_count": 33,
     "metadata": {},
     "output_type": "execute_result"
    }
   ],
   "source": [
    "biases"
   ]
  },
  {
   "cell_type": "markdown",
   "metadata": {},
   "source": [
    "### 1-2 Compiling the model\n",
    "After a model is created, you must call its compile() method to specify the loss function and the optimizer to use."
   ]
  },
  {
   "cell_type": "code",
   "execution_count": 34,
   "metadata": {},
   "outputs": [],
   "source": [
    "model.compile(loss=\"sparse_categorical_crossentropy\",\n",
    "             optimizer=\"sgd\",\n",
    "             metrics=[\"accuracy\"])"
   ]
  },
  {
   "cell_type": "markdown",
   "metadata": {},
   "source": [
    "### 1-3 Training and evaluating the model\n",
    "Now the model is ready to be trained"
   ]
  },
  {
   "cell_type": "code",
   "execution_count": 35,
   "metadata": {},
   "outputs": [
    {
     "name": "stdout",
     "output_type": "stream",
     "text": [
      "Train on 55000 samples, validate on 5000 samples\n",
      "Epoch 1/10\n",
      "55000/55000 [==============================] - 39s 714us/sample - loss: 0.7132 - accuracy: 0.7677 - val_loss: 0.5163 - val_accuracy: 0.8220\n",
      "Epoch 2/10\n",
      "55000/55000 [==============================] - 33s 603us/sample - loss: 0.4878 - accuracy: 0.8308 - val_loss: 0.4486 - val_accuracy: 0.8496\n",
      "Epoch 3/10\n",
      "55000/55000 [==============================] - 31s 564us/sample - loss: 0.4411 - accuracy: 0.8457 - val_loss: 0.4038 - val_accuracy: 0.8632\n",
      "Epoch 4/10\n",
      "55000/55000 [==============================] - 31s 572us/sample - loss: 0.4139 - accuracy: 0.8551 - val_loss: 0.4056 - val_accuracy: 0.8644\n",
      "Epoch 5/10\n",
      "55000/55000 [==============================] - 32s 573us/sample - loss: 0.3947 - accuracy: 0.8620 - val_loss: 0.3909 - val_accuracy: 0.8682\n",
      "Epoch 6/10\n",
      "55000/55000 [==============================] - 31s 572us/sample - loss: 0.3797 - accuracy: 0.8652 - val_loss: 0.3855 - val_accuracy: 0.8674\n",
      "Epoch 7/10\n",
      "55000/55000 [==============================] - 32s 574us/sample - loss: 0.3643 - accuracy: 0.8705 - val_loss: 0.3769 - val_accuracy: 0.8692\n",
      "Epoch 8/10\n",
      "55000/55000 [==============================] - 32s 588us/sample - loss: 0.3540 - accuracy: 0.8741 - val_loss: 0.3583 - val_accuracy: 0.8758\n",
      "Epoch 9/10\n",
      "55000/55000 [==============================] - 38s 697us/sample - loss: 0.3442 - accuracy: 0.8765 - val_loss: 0.3482 - val_accuracy: 0.8772\n",
      "Epoch 10/10\n",
      "55000/55000 [==============================] - 31s 570us/sample - loss: 0.3350 - accuracy: 0.8802 - val_loss: 0.3447 - val_accuracy: 0.8758\n"
     ]
    }
   ],
   "source": [
    "history = model.fit(x_train, y_train, epochs=10, validation_data=(x_valid, y_valid))"
   ]
  },
  {
   "cell_type": "markdown",
   "metadata": {},
   "source": [
    "### 1-4 Plotting the learning curve\n",
    "The fit() method returns a History object containing the training parameters (history.params),\\\n",
    "the list of epochs it went through (history.epoch),\\\n",
    "and dictionary (history.history) containing the loss and extra metrics it measured at the end of each epoch on the training set and on the validation set."
   ]
  },
  {
   "cell_type": "code",
   "execution_count": 36,
   "metadata": {},
   "outputs": [],
   "source": [
    "import pandas as pd\n",
    "import matplotlib.pyplot as plt"
   ]
  },
  {
   "cell_type": "code",
   "execution_count": 37,
   "metadata": {},
   "outputs": [
    {
     "data": {
      "text/plain": [
       "(0.0, 1.0)"
      ]
     },
     "execution_count": 37,
     "metadata": {},
     "output_type": "execute_result"
    },
    {
     "data": {
      "image/png": "[encoded data removed]",
      "text/plain": [
       "<Figure size 576x360 with 1 Axes>"
      ]
     },
     "metadata": {
      "needs_background": "light"
     },
     "output_type": "display_data"
    }
   ],
   "source": [
    "pd.DataFrame(history.history).plot(figsize=(8,5))\n",
    "plt.grid(True)\n",
    "plt.gca().set_ylim(0,1) "
   ]
  },
  {
   "cell_type": "code",
   "execution_count": 38,
   "metadata": {},
   "outputs": [
    {
     "name": "stdout",
     "output_type": "stream",
     "text": [
      "Train on 55000 samples, validate on 5000 samples\n",
      "Epoch 1/20\n",
      "55000/55000 [==============================] - 32s 588us/sample - loss: 0.3260 - accuracy: 0.8837 - val_loss: 0.3426 - val_accuracy: 0.8818\n",
      "Epoch 2/20\n",
      "55000/55000 [==============================] - 31s 566us/sample - loss: 0.3192 - accuracy: 0.8849 - val_loss: 0.3284 - val_accuracy: 0.8822\n",
      "Epoch 3/20\n",
      "55000/55000 [==============================] - 31s 569us/sample - loss: 0.3112 - accuracy: 0.8885 - val_loss: 0.3260 - val_accuracy: 0.8842\n",
      "Epoch 4/20\n",
      "55000/55000 [==============================] - 33s 598us/sample - loss: 0.3048 - accuracy: 0.8910 - val_loss: 0.3375 - val_accuracy: 0.8816\n",
      "Epoch 5/20\n",
      "55000/55000 [==============================] - 31s 571us/sample - loss: 0.2982 - accuracy: 0.8931 - val_loss: 0.3243 - val_accuracy: 0.8868\n",
      "Epoch 6/20\n",
      "55000/55000 [==============================] - 31s 571us/sample - loss: 0.2918 - accuracy: 0.8952 - val_loss: 0.3298 - val_accuracy: 0.8824\n",
      "Epoch 7/20\n",
      "55000/55000 [==============================] - 31s 567us/sample - loss: 0.2873 - accuracy: 0.8969 - val_loss: 0.3207 - val_accuracy: 0.8838\n",
      "Epoch 8/20\n",
      "55000/55000 [==============================] - 32s 576us/sample - loss: 0.2807 - accuracy: 0.8986 - val_loss: 0.3152 - val_accuracy: 0.8876\n",
      "Epoch 9/20\n",
      "55000/55000 [==============================] - 33s 594us/sample - loss: 0.2761 - accuracy: 0.9002 - val_loss: 0.3220 - val_accuracy: 0.8840\n",
      "Epoch 10/20\n",
      "55000/55000 [==============================] - 32s 575us/sample - loss: 0.2708 - accuracy: 0.9020 - val_loss: 0.3297 - val_accuracy: 0.8784\n",
      "Epoch 11/20\n",
      "55000/55000 [==============================] - 32s 576us/sample - loss: 0.2652 - accuracy: 0.9044 - val_loss: 0.3076 - val_accuracy: 0.8892\n",
      "Epoch 12/20\n",
      "55000/55000 [==============================] - 31s 568us/sample - loss: 0.2615 - accuracy: 0.9049 - val_loss: 0.3206 - val_accuracy: 0.8862\n",
      "Epoch 13/20\n",
      "55000/55000 [==============================] - 31s 571us/sample - loss: 0.2575 - accuracy: 0.9070 - val_loss: 0.3156 - val_accuracy: 0.8878\n",
      "Epoch 14/20\n",
      "55000/55000 [==============================] - 31s 568us/sample - loss: 0.2536 - accuracy: 0.9085 - val_loss: 0.2982 - val_accuracy: 0.8912\n",
      "Epoch 15/20\n",
      "55000/55000 [==============================] - 31s 567us/sample - loss: 0.2490 - accuracy: 0.9105 - val_loss: 0.3057 - val_accuracy: 0.8880\n",
      "Epoch 16/20\n",
      "55000/55000 [==============================] - 42s 763us/sample - loss: 0.2447 - accuracy: 0.9123 - val_loss: 0.3065 - val_accuracy: 0.8892\n",
      "Epoch 17/20\n",
      "55000/55000 [==============================] - 32s 577us/sample - loss: 0.2406 - accuracy: 0.9129 - val_loss: 0.3085 - val_accuracy: 0.8886\n",
      "Epoch 18/20\n",
      "55000/55000 [==============================] - 32s 578us/sample - loss: 0.2373 - accuracy: 0.9149 - val_loss: 0.3104 - val_accuracy: 0.8902\n",
      "Epoch 19/20\n",
      "55000/55000 [==============================] - 32s 583us/sample - loss: 0.2326 - accuracy: 0.9171 - val_loss: 0.3107 - val_accuracy: 0.8884\n",
      "Epoch 20/20\n",
      "55000/55000 [==============================] - 31s 572us/sample - loss: 0.2296 - accuracy: 0.9178 - val_loss: 0.3070 - val_accuracy: 0.8908\n"
     ]
    }
   ],
   "source": [
    "#Continuing the training for more epochs\n",
    "history = model.fit(x_train, y_train, epochs=20, validation_data=(x_valid, y_valid))"
   ]
  },
  {
   "cell_type": "code",
   "execution_count": 39,
   "metadata": {},
   "outputs": [
    {
     "data": {
      "text/plain": [
       "(0.0, 1.0)"
      ]
     },
     "execution_count": 39,
     "metadata": {},
     "output_type": "execute_result"
    },
    {
     "data": {
      "image/png": "[encoded data removed]",
      "text/plain": [
       "<Figure size 576x360 with 1 Axes>"
      ]
     },
     "metadata": {
      "needs_background": "light"
     },
     "output_type": "display_data"
    }
   ],
   "source": [
    "pd.DataFrame(history.history).plot(figsize=(8,5))\n",
    "plt.grid(True)\n",
    "plt.gca().set_ylim(0,1)"
   ]
  },
  {
   "cell_type": "markdown",
   "metadata": {},
   "source": [
    "### 1-5 Validating Model"
   ]
  },
  {
   "cell_type": "code",
   "execution_count": 40,
   "metadata": {},
   "outputs": [
    {
     "name": "stdout",
     "output_type": "stream",
     "text": [
      "10000/10000 [==============================] - 4s 411us/sample - loss: 69.7275 - accuracy: 0.8362s - loss: \n"
     ]
    },
    {
     "data": {
      "text/plain": [
       "[69.72750549316406, 0.8362]"
      ]
     },
     "execution_count": 40,
     "metadata": {},
     "output_type": "execute_result"
    }
   ],
   "source": [
    "model.evaluate(x_test, y_test)"
   ]
  },
  {
   "cell_type": "markdown",
   "metadata": {},
   "source": [
    "### 1-6 model prediction\n",
    "Using the model to make predictions."
   ]
  },
  {
   "cell_type": "code",
   "execution_count": 43,
   "metadata": {},
   "outputs": [
    {
     "data": {
      "text/plain": [
       "array([[0., 0., 0., 0., 0., 0., 0., 0., 0., 1.],\n",
       "       [0., 0., 1., 0., 0., 0., 0., 0., 0., 0.],\n",
       "       [0., 1., 0., 0., 0., 0., 0., 0., 0., 0.],\n",
       "       [0., 1., 0., 0., 0., 0., 0., 0., 0., 0.],\n",
       "       [0., 0., 0., 0., 0., 0., 1., 0., 0., 0.]], dtype=float32)"
      ]
     },
     "execution_count": 43,
     "metadata": {},
     "output_type": "execute_result"
    }
   ],
   "source": [
    "x_new=x_test[:5]\n",
    "y_prob = model.predict(x_new)\n",
    "y_prob"
   ]
  },
  {
   "cell_type": "code",
   "execution_count": 45,
   "metadata": {},
   "outputs": [
    {
     "data": {
      "text/plain": [
       "array([9, 2, 1, 1, 6], dtype=int64)"
      ]
     },
     "execution_count": 45,
     "metadata": {},
     "output_type": "execute_result"
    }
   ],
   "source": [
    "y_pred = model.predict_classes(x_new)\n",
    "y_pred"
   ]
  },
  {
   "cell_type": "code",
   "execution_count": 51,
   "metadata": {},
   "outputs": [
    {
     "data": {
      "text/plain": [
       "array(['Ankle boot', 'Pullover', 'Trouser', 'Trouser', 'Shirt'],\n",
       "      dtype='<U11')"
      ]
     },
     "execution_count": 51,
     "metadata": {},
     "output_type": "execute_result"
    }
   ],
   "source": [
    "y_true=y_test[:5]\n",
    "np.array(class_names)[y_pred]\n"
   ]
  },
  {
   "cell_type": "code",
   "execution_count": 50,
   "metadata": {},
   "outputs": [
    {
     "data": {
      "text/plain": [
       "array(['Ankle boot', 'Pullover', 'Trouser', 'Trouser', 'Shirt'],\n",
       "      dtype='<U11')"
      ]
     },
     "execution_count": 50,
     "metadata": {},
     "output_type": "execute_result"
    }
   ],
   "source": [
    "np.array(class_names)[y_true]"
   ]
  },
  {
   "cell_type": "markdown",
   "metadata": {},
   "source": [
    "# 2- Building a Regression MLP Using the Sequential API\n",
    "we will use Scikit-Learn’s fetch_california_housing()"
   ]
  },
  {
   "cell_type": "code",
   "execution_count": 108,
   "metadata": {},
   "outputs": [],
   "source": [
    "from sklearn.datasets import fetch_california_housing\n",
    "from sklearn.model_selection import train_test_split\n",
    "from sklearn.preprocessing import StandardScaler"
   ]
  },
  {
   "cell_type": "code",
   "execution_count": 109,
   "metadata": {},
   "outputs": [],
   "source": [
    "housing = fetch_california_housing()\n"
   ]
  },
  {
   "cell_type": "code",
   "execution_count": 110,
   "metadata": {},
   "outputs": [],
   "source": [
    "x_train_full, x_test, y_train_full, y_test = train_test_split(housing.data, housing.target)"
   ]
  },
  {
   "cell_type": "code",
   "execution_count": 111,
   "metadata": {},
   "outputs": [],
   "source": [
    "x_train, x_valid, y_train, y_valid = train_test_split(x_train_full, y_train_full)"
   ]
  },
  {
   "cell_type": "code",
   "execution_count": 112,
   "metadata": {},
   "outputs": [
    {
     "data": {
      "text/plain": [
       "array([[   4.2036    ,   34.        ,    4.99067599, ...,    3.63403263,\n",
       "          33.65      , -117.93      ],\n",
       "       [   6.2748    ,   22.        ,    7.05405405, ...,    3.02123552,\n",
       "          34.22      , -118.88      ],\n",
       "       [   3.        ,   36.        ,    5.2106599 , ...,    2.5964467 ,\n",
       "          33.91      , -118.12      ],\n",
       "       ...,\n",
       "       [   4.375     ,   28.        ,    6.65674256, ...,    2.8966725 ,\n",
       "          37.99      , -122.28      ],\n",
       "       [   2.625     ,   20.        ,    5.9532294 , ...,    3.10467706,\n",
       "          36.27      , -119.57      ],\n",
       "       [   1.9423    ,   29.        ,    4.68945869, ...,    3.69230769,\n",
       "          34.14      , -117.33      ]])"
      ]
     },
     "execution_count": 112,
     "metadata": {},
     "output_type": "execute_result"
    }
   ],
   "source": [
    "x_train"
   ]
  },
  {
   "cell_type": "code",
   "execution_count": 113,
   "metadata": {},
   "outputs": [],
   "source": [
    "scaler=StandardScaler()\n",
    "x_train = scaler.fit_transform(x_train)\n",
    "x_valid = scaler.fit_transform(x_valid)\n",
    "x_test = scaler.fit_transform(x_test)"
   ]
  },
  {
   "cell_type": "code",
   "execution_count": 114,
   "metadata": {},
   "outputs": [
    {
     "data": {
      "text/plain": [
       "(11610, 8)"
      ]
     },
     "execution_count": 114,
     "metadata": {},
     "output_type": "execute_result"
    }
   ],
   "source": [
    "x_train.shape"
   ]
  },
  {
   "cell_type": "code",
   "execution_count": 115,
   "metadata": {},
   "outputs": [
    {
     "data": {
      "text/plain": [
       "(11610,)"
      ]
     },
     "execution_count": 115,
     "metadata": {},
     "output_type": "execute_result"
    }
   ],
   "source": [
    "y_train.shape"
   ]
  },
  {
   "cell_type": "markdown",
   "metadata": {},
   "source": [
    "### 2.1 Using the Sequential API to build, train, evaluate, and use a regression MLP to make predictions\n",
    "\n",
    "Output layer has a single neuron (since we only want to predict a single value) and uses no activation function.\\\n",
    "the loss function is the mean squared error.\\\n",
    "Since the dataset is quite noisy, we just use a single hidden layer with fewer neurons than before."
   ]
  },
  {
   "cell_type": "code",
   "execution_count": 116,
   "metadata": {},
   "outputs": [],
   "source": [
    "model = keras.models.Sequential()\n",
    "model.add(keras.layers.Dense(30, activation = \"relu\", input_shape=x_train.shape[1:]))\n",
    "model.add(keras.layers.Dense(1))"
   ]
  },
  {
   "cell_type": "code",
   "execution_count": 117,
   "metadata": {},
   "outputs": [
    {
     "name": "stdout",
     "output_type": "stream",
     "text": [
      "Model: \"sequential_8\"\n",
      "_________________________________________________________________\n",
      "Layer (type)                 Output Shape              Param #   \n",
      "=================================================================\n",
      "dense_10 (Dense)             (None, 30)                270       \n",
      "_________________________________________________________________\n",
      "dense_11 (Dense)             (None, 1)                 31        \n",
      "=================================================================\n",
      "Total params: 301\n",
      "Trainable params: 301\n",
      "Non-trainable params: 0\n",
      "_________________________________________________________________\n"
     ]
    }
   ],
   "source": [
    "model.summary()"
   ]
  },
  {
   "cell_type": "code",
   "execution_count": 118,
   "metadata": {},
   "outputs": [
    {
     "name": "stdout",
     "output_type": "stream",
     "text": [
      "Train on 11610 samples, validate on 3870 samples\n",
      "Epoch 1/20\n",
      "11610/11610 [==============================] - 2s 199us/sample - loss: 1.2165 - accuracy: 0.0034 - val_loss: 6.2357 - val_accuracy: 0.0018\n",
      "Epoch 2/20\n",
      "11610/11610 [==============================] - 1s 125us/sample - loss: 1.8265 - accuracy: 0.0034 - val_loss: 0.6639 - val_accuracy: 0.0018\n",
      "Epoch 3/20\n",
      "11610/11610 [==============================] - 1s 122us/sample - loss: 0.4538 - accuracy: 0.0033 - val_loss: 0.5824 - val_accuracy: 0.0018\n",
      "Epoch 4/20\n",
      "11610/11610 [==============================] - 1s 123us/sample - loss: 0.4189 - accuracy: 0.0034 - val_loss: 0.5919 - val_accuracy: 0.0018\n",
      "Epoch 5/20\n",
      "11610/11610 [==============================] - 1s 125us/sample - loss: 0.4026 - accuracy: 0.0034 - val_loss: 0.6001 - val_accuracy: 0.0018\n",
      "Epoch 6/20\n",
      "11610/11610 [==============================] - 1s 127us/sample - loss: 0.3942 - accuracy: 0.0034 - val_loss: 0.6206 - val_accuracy: 0.0018\n",
      "Epoch 7/20\n",
      "11610/11610 [==============================] - 2s 150us/sample - loss: 0.3884 - accuracy: 0.0034 - val_loss: 0.6125 - val_accuracy: 0.0018\n",
      "Epoch 8/20\n",
      "11610/11610 [==============================] - 3s 219us/sample - loss: 0.3852 - accuracy: 0.0034 - val_loss: 0.6310 - val_accuracy: 0.0018\n",
      "Epoch 9/20\n",
      "11610/11610 [==============================] - 2s 191us/sample - loss: 0.3814 - accuracy: 0.0034 - val_loss: 0.6555 - val_accuracy: 0.0018\n",
      "Epoch 10/20\n",
      "11610/11610 [==============================] - 1s 109us/sample - loss: 0.3751 - accuracy: 0.0034 - val_loss: 0.7040 - val_accuracy: 0.0018\n",
      "Epoch 11/20\n",
      "11610/11610 [==============================] - 1s 100us/sample - loss: 0.3739 - accuracy: 0.0034 - val_loss: 0.7736 - val_accuracy: 0.0018\n",
      "Epoch 12/20\n",
      "11610/11610 [==============================] - 1s 103us/sample - loss: 0.3718 - accuracy: 0.0034 - val_loss: 0.7236 - val_accuracy: 0.0018\n",
      "Epoch 13/20\n",
      "11610/11610 [==============================] - 1s 115us/sample - loss: 0.3673 - accuracy: 0.0034 - val_loss: 0.7608 - val_accuracy: 0.0018\n",
      "Epoch 14/20\n",
      "11610/11610 [==============================] - 1s 100us/sample - loss: 0.3648 - accuracy: 0.0034 - val_loss: 0.8084 - val_accuracy: 0.0018\n",
      "Epoch 15/20\n",
      "11610/11610 [==============================] - 1s 102us/sample - loss: 0.3675 - accuracy: 0.0034 - val_loss: 0.8057 - val_accuracy: 0.0018\n",
      "Epoch 16/20\n",
      "11610/11610 [==============================] - 1s 103us/sample - loss: 0.3602 - accuracy: 0.0034 - val_loss: 0.9112 - val_accuracy: 0.0018\n",
      "Epoch 17/20\n",
      "11610/11610 [==============================] - 1s 113us/sample - loss: 0.3585 - accuracy: 0.0034 - val_loss: 0.9061 - val_accuracy: 0.0018\n",
      "Epoch 18/20\n",
      "11610/11610 [==============================] - 1s 112us/sample - loss: 0.4210 - accuracy: 0.0034 - val_loss: 0.7437 - val_accuracy: 0.0018\n",
      "Epoch 19/20\n",
      "11610/11610 [==============================] - 1s 98us/sample - loss: 0.3700 - accuracy: 0.0034 - val_loss: 0.8676 - val_accuracy: 0.0018\n",
      "Epoch 20/20\n",
      "11610/11610 [==============================] - 1s 99us/sample - loss: 0.3612 - accuracy: 0.0034 - val_loss: 0.8767 - val_accuracy: 0.0018\n"
     ]
    }
   ],
   "source": [
    "model.compile(loss=\"mean_squared_error\", optimizer=\"sgd\",  metrics=[\"accuracy\"])\n",
    "history=model.fit(x_train, y_train, epochs=20, validation_data=(x_valid, y_valid))\n"
   ]
  },
  {
   "cell_type": "code",
   "execution_count": 119,
   "metadata": {},
   "outputs": [
    {
     "name": "stdout",
     "output_type": "stream",
     "text": [
      "5160/5160 [==============================] - 0s 72us/sample - loss: 0.3394 - accuracy: 0.0031\n"
     ]
    }
   ],
   "source": [
    "mse_test=model.evaluate(x_test, y_test)"
   ]
  },
  {
   "cell_type": "code",
   "execution_count": 120,
   "metadata": {},
   "outputs": [
    {
     "data": {
      "text/plain": [
       "[0.33938844268636187, 0.0031007752]"
      ]
     },
     "execution_count": 120,
     "metadata": {},
     "output_type": "execute_result"
    }
   ],
   "source": [
    "mse_test"
   ]
  },
  {
   "cell_type": "code",
   "execution_count": 121,
   "metadata": {},
   "outputs": [
    {
     "data": {
      "text/plain": [
       "(0.0, 1.0)"
      ]
     },
     "execution_count": 121,
     "metadata": {},
     "output_type": "execute_result"
    },
    {
     "data": {
      "image/png": "[encoded data removed]",
      "text/plain": [
       "<Figure size 576x360 with 1 Axes>"
      ]
     },
     "metadata": {
      "needs_background": "light"
     },
     "output_type": "display_data"
    }
   ],
   "source": [
    "pd.DataFrame(history.history).plot(figsize=(8,5))\n",
    "plt.grid(True)\n",
    "plt.gca().set_ylim(0,1)"
   ]
  },
  {
   "cell_type": "code",
   "execution_count": 122,
   "metadata": {},
   "outputs": [],
   "source": [
    "X_new = x_test[:3] # pretend these are new instances\n",
    "y_pred = model.predict(X_new)"
   ]
  },
  {
   "cell_type": "code",
   "execution_count": 123,
   "metadata": {},
   "outputs": [
    {
     "data": {
      "text/plain": [
       "array([[2.9690104],\n",
       "       [2.783206 ],\n",
       "       [2.760013 ]], dtype=float32)"
      ]
     },
     "execution_count": 123,
     "metadata": {},
     "output_type": "execute_result"
    }
   ],
   "source": [
    "y_pred"
   ]
  },
  {
   "cell_type": "code",
   "execution_count": 124,
   "metadata": {},
   "outputs": [
    {
     "data": {
      "text/plain": [
       "array([3.761, 3.209, 1.872])"
      ]
     },
     "execution_count": 124,
     "metadata": {},
     "output_type": "execute_result"
    }
   ],
   "source": [
    "y_test[:3]"
   ]
  },
  {
   "cell_type": "markdown",
   "metadata": {},
   "source": [
    "### 2.2 New model by myself for housing prediction as test"
   ]
  },
  {
   "cell_type": "code",
   "execution_count": 100,
   "metadata": {},
   "outputs": [],
   "source": [
    "model=keras.Sequential()\n",
    "model.add(keras.layers.Dense(100,activation=\"relu\",input_shape=x_train.shape[1:]))\n",
    "model.add(keras.layers.Dropout(0.2))\n",
    "model.add(keras.layers.Dense(30,activation=\"relu\"))\n",
    "model.add(keras.layers.Dropout(0.2))\n",
    "model.add(keras.layers.Dense(1))"
   ]
  },
  {
   "cell_type": "code",
   "execution_count": 101,
   "metadata": {},
   "outputs": [],
   "source": [
    "model.compile(loss=\"mean_squared_error\", optimizer=\"rmsprop\",  metrics=[\"accuracy\"])"
   ]
  },
  {
   "cell_type": "code",
   "execution_count": 102,
   "metadata": {},
   "outputs": [
    {
     "name": "stdout",
     "output_type": "stream",
     "text": [
      "Train on 5160 samples, validate on 3870 samples\n",
      "Epoch 1/20\n",
      "5160/5160 [==============================] - 3s 568us/sample - loss: 1.5710 - accuracy: 0.0037 - val_loss: 0.6483 - val_accuracy: 0.0028\n",
      "Epoch 2/20\n",
      "5160/5160 [==============================] - 1s 219us/sample - loss: 0.7303 - accuracy: 0.0035 - val_loss: 1.2175 - val_accuracy: 0.0028\n",
      "Epoch 3/20\n",
      "5160/5160 [==============================] - 1s 229us/sample - loss: 0.6241 - accuracy: 0.0037 - val_loss: 1.5638 - val_accuracy: 0.0026\n",
      "Epoch 4/20\n",
      "5160/5160 [==============================] - 1s 240us/sample - loss: 0.5301 - accuracy: 0.0037 - val_loss: 2.2428 - val_accuracy: 0.0031\n",
      "Epoch 5/20\n",
      "5160/5160 [==============================] - 1s 241us/sample - loss: 0.4835 - accuracy: 0.0037 - val_loss: 2.3322 - val_accuracy: 0.0031\n",
      "Epoch 6/20\n",
      "5160/5160 [==============================] - 1s 246us/sample - loss: 0.4913 - accuracy: 0.0037 - val_loss: 3.3576 - val_accuracy: 0.0031\n",
      "Epoch 7/20\n",
      "5160/5160 [==============================] - 1s 262us/sample - loss: 0.4780 - accuracy: 0.0037 - val_loss: 3.3957 - val_accuracy: 0.0031\n",
      "Epoch 8/20\n",
      "5160/5160 [==============================] - 1s 228us/sample - loss: 0.4577 - accuracy: 0.0037 - val_loss: 4.4033 - val_accuracy: 0.0031\n",
      "Epoch 9/20\n",
      "5160/5160 [==============================] - 2s 321us/sample - loss: 0.4471 - accuracy: 0.0037 - val_loss: 4.8065 - val_accuracy: 0.0031\n",
      "Epoch 10/20\n",
      "5160/5160 [==============================] - 2s 302us/sample - loss: 0.4462 - accuracy: 0.0037 - val_loss: 4.6608 - val_accuracy: 0.0031\n",
      "Epoch 11/20\n",
      "5160/5160 [==============================] - 2s 294us/sample - loss: 0.4417 - accuracy: 0.0037 - val_loss: 6.6305 - val_accuracy: 0.0031\n",
      "Epoch 12/20\n",
      "5160/5160 [==============================] - 2s 295us/sample - loss: 0.4354 - accuracy: 0.0037 - val_loss: 6.1249 - val_accuracy: 0.0031\n",
      "Epoch 13/20\n",
      "5160/5160 [==============================] - 1s 272us/sample - loss: 0.4271 - accuracy: 0.0037 - val_loss: 5.4143 - val_accuracy: 0.0031\n",
      "Epoch 14/20\n",
      "5160/5160 [==============================] - 1s 247us/sample - loss: 0.4415 - accuracy: 0.0037 - val_loss: 5.6186 - val_accuracy: 0.0031\n",
      "Epoch 15/20\n",
      "5160/5160 [==============================] - 1s 287us/sample - loss: 0.4239 - accuracy: 0.0037 - val_loss: 6.6801 - val_accuracy: 0.0031\n",
      "Epoch 16/20\n",
      "5160/5160 [==============================] - 1s 256us/sample - loss: 0.4042 - accuracy: 0.0037 - val_loss: 7.4793 - val_accuracy: 0.0031\n",
      "Epoch 17/20\n",
      "5160/5160 [==============================] - 2s 308us/sample - loss: 0.4043 - accuracy: 0.0037 - val_loss: 7.3283 - val_accuracy: 0.0031\n",
      "Epoch 18/20\n",
      "5160/5160 [==============================] - 1s 254us/sample - loss: 0.4164 - accuracy: 0.0037 - val_loss: 7.8844 - val_accuracy: 0.0031\n",
      "Epoch 19/20\n",
      "5160/5160 [==============================] - 1s 274us/sample - loss: 0.3867 - accuracy: 0.0037 - val_loss: 8.7560 - val_accuracy: 0.0031\n",
      "Epoch 20/20\n",
      "5160/5160 [==============================] - 1s 258us/sample - loss: 0.3845 - accuracy: 0.0037 - val_loss: 8.4358 - val_accuracy: 0.0031\n"
     ]
    }
   ],
   "source": [
    "history=model.fit(x_train, y_train, epochs=20, validation_data=(x_valid, y_valid))"
   ]
  },
  {
   "cell_type": "code",
   "execution_count": 103,
   "metadata": {},
   "outputs": [
    {
     "name": "stdout",
     "output_type": "stream",
     "text": [
      "5160/5160 [==============================] - 0s 93us/sample - loss: 0.3293 - accuracy: 0.0037\n"
     ]
    },
    {
     "data": {
      "text/plain": [
       "[0.32934665549402087, 0.0036821705]"
      ]
     },
     "execution_count": 103,
     "metadata": {},
     "output_type": "execute_result"
    }
   ],
   "source": [
    "mse_test=model.evaluate(x_test, y_test)\n",
    "mse_test"
   ]
  },
  {
   "cell_type": "code",
   "execution_count": 105,
   "metadata": {},
   "outputs": [
    {
     "data": {
      "text/plain": [
       "(0.0, 1.0)"
      ]
     },
     "execution_count": 105,
     "metadata": {},
     "output_type": "execute_result"
    },
    {
     "data": {
      "image/png": "[encoded data removed]",
      "text/plain": [
       "<Figure size 576x360 with 1 Axes>"
      ]
     },
     "metadata": {
      "needs_background": "light"
     },
     "output_type": "display_data"
    }
   ],
   "source": [
    "pd.DataFrame(history.history).plot(figsize=(8,5))\n",
    "plt.grid(True)\n",
    "plt.gca().set_ylim(0,1)"
   ]
  },
  {
   "cell_type": "code",
   "execution_count": 106,
   "metadata": {},
   "outputs": [
    {
     "data": {
      "text/plain": [
       "array([[1.6641945],\n",
       "       [1.6177024],\n",
       "       [3.532979 ]], dtype=float32)"
      ]
     },
     "execution_count": 106,
     "metadata": {},
     "output_type": "execute_result"
    }
   ],
   "source": [
    "X_new = x_test[:3] # pretend these are new instances\n",
    "y_pred = model.predict(X_new)\n",
    "y_pred"
   ]
  },
  {
   "cell_type": "code",
   "execution_count": 107,
   "metadata": {},
   "outputs": [
    {
     "data": {
      "text/plain": [
       "array([1.477, 1.202, 3.719])"
      ]
     },
     "execution_count": 107,
     "metadata": {},
     "output_type": "execute_result"
    }
   ],
   "source": [
    "y_test[:3]"
   ]
  },
  {
   "cell_type": "code",
   "execution_count": null,
   "metadata": {},
   "outputs": [],
   "source": []
  }
 ],
 "metadata": {
  "kernelspec": {
   "display_name": "Python 3",
   "language": "python",
   "name": "python3"
  },
  "language_info": {
   "codemirror_mode": {
    "name": "ipython",
    "version": 3
   },
   "file_extension": ".py",
   "mimetype": "text/x-python",
   "name": "python",
   "nbconvert_exporter": "python",
   "pygments_lexer": "ipython3",
   "version": "3.7.9"
  }
 },
 "nbformat": 4,
 "nbformat_minor": 4
}
