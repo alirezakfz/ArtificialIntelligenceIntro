{
 "cells": [
  {
   "cell_type": "code",
   "execution_count": 1,
   "metadata": {},
   "outputs": [],
   "source": [
    "import tensorflow as tf\n",
    "from tensorflow import keras\n",
    "import numpy as np\n"
   ]
  },
  {
   "cell_type": "code",
   "execution_count": 2,
   "metadata": {},
   "outputs": [],
   "source": [
    "from sklearn.datasets import fetch_california_housing\n",
    "from sklearn.model_selection import train_test_split\n",
    "from sklearn.preprocessing import StandardScaler"
   ]
  },
  {
   "cell_type": "code",
   "execution_count": 3,
   "metadata": {},
   "outputs": [],
   "source": [
    "import pandas as pd\n",
    "import matplotlib.pyplot as plt"
   ]
  },
  {
   "cell_type": "code",
   "execution_count": 4,
   "metadata": {},
   "outputs": [],
   "source": [
    "housing = fetch_california_housing()\n",
    "x_train_full, x_test, y_train_full, y_test = train_test_split(housing.data, housing.target)\n",
    "x_train, x_valid, y_train, y_valid = train_test_split(x_train_full, y_train_full)"
   ]
  },
  {
   "cell_type": "code",
   "execution_count": 5,
   "metadata": {},
   "outputs": [
    {
     "name": "stdout",
     "output_type": "stream",
     "text": [
      "Downloading data from https://storage.googleapis.com/tensorflow/tf-keras-datasets/train-labels-idx1-ubyte.gz\n",
      "32768/29515 [=================================] - 0s 2us/step\n",
      "Downloading data from https://storage.googleapis.com/tensorflow/tf-keras-datasets/train-images-idx3-ubyte.gz\n",
      "26427392/26421880 [==============================] - 5s 0us/step\n",
      "Downloading data from https://storage.googleapis.com/tensorflow/tf-keras-datasets/t10k-labels-idx1-ubyte.gz\n",
      "8192/5148 [===============================================] - 0s 0us/step\n",
      "Downloading data from https://storage.googleapis.com/tensorflow/tf-keras-datasets/t10k-images-idx3-ubyte.gz\n",
      "4423680/4422102 [==============================] - 1s 0us/step\n"
     ]
    }
   ],
   "source": [
    "fashion_mnist=keras.datasets.fashion_mnist\n",
    "(x_train_full, y_train_full), (x_test, y_test) = fashion_mnist.load_data()"
   ]
  },
  {
   "cell_type": "code",
   "execution_count": 6,
   "metadata": {},
   "outputs": [],
   "source": [
    "x_valid, x_train= x_train_full[:5000]/255.0, x_train_full[5000:]/255.0\n",
    "y_valid, y_train= y_train_full[:5000], y_train_full[5000:]"
   ]
  },
  {
   "cell_type": "code",
   "execution_count": 7,
   "metadata": {},
   "outputs": [],
   "source": [
    "# List of class names to know what we are dealing with:\n",
    "class_names = [\"T-shirt/top\", \"Trouser\", \"Pullover\", \"Dress\", \"Coat\",\"Sandal\", \"Shirt\", \"Sneaker\", \"Bag\", \"Ankle boot\"]"
   ]
  },
  {
   "cell_type": "markdown",
   "metadata": {},
   "source": [
    "# Implementing Batch Normalization with Keras"
   ]
  },
  {
   "cell_type": "markdown",
   "metadata": {},
   "source": [
    "As with most things with Keras, implementing Batch Normalization is simple and\n",
    "intuitive. Just add a BatchNormalization layer before or after each hidden layer’s\n",
    "activation function, and optionally add a BN layer as well as the first layer in your\n",
    "model."
   ]
  },
  {
   "cell_type": "code",
   "execution_count": 14,
   "metadata": {},
   "outputs": [
    {
     "ename": "SyntaxError",
     "evalue": "invalid syntax (<ipython-input-14-fb9b9e325271>, line 5)",
     "output_type": "error",
     "traceback": [
      "\u001b[1;36m  File \u001b[1;32m\"<ipython-input-14-fb9b9e325271>\"\u001b[1;36m, line \u001b[1;32m5\u001b[0m\n\u001b[1;33m    keras.layers.BatchNormalization(),\u001b[0m\n\u001b[1;37m        ^\u001b[0m\n\u001b[1;31mSyntaxError\u001b[0m\u001b[1;31m:\u001b[0m invalid syntax\n"
     ]
    }
   ],
   "source": [
    "model = keras.models.Sequential([\n",
    "    keras.layers.Flatten(input_shape=[28, 28]),\n",
    "    keras.layers.BatchNormalization(),\n",
    "    keras.layers.Dense(300, activation=\"elu\", kernel_initializer=\"he_normal\")\n",
    "    keras.layers.BatchNormalization(),\n",
    "    keras.layers.Dense(100, activation=\"elu\", kernel_initializer=\"he_normal\"),\n",
    "    keras.layers.BatchNormalization(),\n",
    "    keras.layers.Dense(10, activation=\"softmax\")\n",
    "    ])"
   ]
  },
  {
   "cell_type": "code",
   "execution_count": 15,
   "metadata": {},
   "outputs": [],
   "source": [
    "model = keras.models.Sequential()\n",
    "model.add(keras.layers.Flatten(input_shape=[28, 28]))\n",
    "model.add(keras.layers.BatchNormalization())\n",
    "model.add(keras.layers.Dense(300, activation=\"elu\", kernel_initializer=\"he_normal\"))\n",
    "model.add(keras.layers.BatchNormalization())\n",
    "model.add(keras.layers.Dense(100, activation=\"elu\", kernel_initializer=\"he_normal\"))\n",
    "model.add(keras.layers.BatchNormalization())\n",
    "model.add(keras.layers.Dense(10, activation=\"softmax\"))\n"
   ]
  },
  {
   "cell_type": "code",
   "execution_count": 16,
   "metadata": {},
   "outputs": [
    {
     "name": "stdout",
     "output_type": "stream",
     "text": [
      "Model: \"sequential\"\n",
      "_________________________________________________________________\n",
      "Layer (type)                 Output Shape              Param #   \n",
      "=================================================================\n",
      "flatten (Flatten)            (None, 784)               0         \n",
      "_________________________________________________________________\n",
      "batch_normalization (BatchNo (None, 784)               3136      \n",
      "_________________________________________________________________\n",
      "dense (Dense)                (None, 300)               235500    \n",
      "_________________________________________________________________\n",
      "batch_normalization_1 (Batch (None, 300)               1200      \n",
      "_________________________________________________________________\n",
      "dense_1 (Dense)              (None, 100)               30100     \n",
      "_________________________________________________________________\n",
      "batch_normalization_2 (Batch (None, 100)               400       \n",
      "_________________________________________________________________\n",
      "dense_2 (Dense)              (None, 10)                1010      \n",
      "=================================================================\n",
      "Total params: 271,346\n",
      "Trainable params: 268,978\n",
      "Non-trainable params: 2,368\n",
      "_________________________________________________________________\n"
     ]
    }
   ],
   "source": [
    "model.summary()"
   ]
  },
  {
   "cell_type": "markdown",
   "metadata": {},
   "source": [
    "As you can see, each BN layer adds four parameters per input: γ, β, μ, and σ (for\n",
    "example, the first BN layer adds 3,136 parameters, which is 4 × 784). The last two\n",
    "parameters, μ and σ, are the moving averages; they are not affected by backpropagation,\n",
    "so Keras calls them “non-trainable”9 (if you count the total number of BN\n",
    "parameters, 3,136 + 1,200 + 400, and divide by 2, you get 2,368, which is the total\n",
    "number of non-trainable parameters in this model)."
   ]
  },
  {
   "cell_type": "code",
   "execution_count": 17,
   "metadata": {},
   "outputs": [
    {
     "data": {
      "text/plain": [
       "[('batch_normalization/gamma:0', True),\n",
       " ('batch_normalization/beta:0', True),\n",
       " ('batch_normalization/moving_mean:0', False),\n",
       " ('batch_normalization/moving_variance:0', False)]"
      ]
     },
     "execution_count": 17,
     "metadata": {},
     "output_type": "execute_result"
    }
   ],
   "source": [
    "[(var.name, var.trainable) for var in model.layers[1].variables]"
   ]
  },
  {
   "cell_type": "code",
   "execution_count": 18,
   "metadata": {},
   "outputs": [],
   "source": [
    "model.compile(loss=\"sparse_categorical_crossentropy\",\n",
    "             optimizer=\"sgd\",\n",
    "             metrics=[\"accuracy\"])"
   ]
  },
  {
   "cell_type": "code",
   "execution_count": 19,
   "metadata": {},
   "outputs": [
    {
     "name": "stdout",
     "output_type": "stream",
     "text": [
      "Train on 55000 samples, validate on 5000 samples\n",
      "Epoch 1/10\n",
      "55000/55000 [==============================] - 6s 118us/sample - loss: 0.5506 - accuracy: 0.8076 - val_loss: 0.4067 - val_accuracy: 0.8582\n",
      "Epoch 2/10\n",
      "55000/55000 [==============================] - 6s 112us/sample - loss: 0.4253 - accuracy: 0.8497 - val_loss: 0.3731 - val_accuracy: 0.8688\n",
      "Epoch 3/10\n",
      "55000/55000 [==============================] - 6s 102us/sample - loss: 0.3849 - accuracy: 0.8613 - val_loss: 0.3582 - val_accuracy: 0.8696\n",
      "Epoch 4/10\n",
      "55000/55000 [==============================] - 6s 108us/sample - loss: 0.3639 - accuracy: 0.8701 - val_loss: 0.3471 - val_accuracy: 0.8722\n",
      "Epoch 5/10\n",
      "55000/55000 [==============================] - 6s 106us/sample - loss: 0.3459 - accuracy: 0.8759 - val_loss: 0.3402 - val_accuracy: 0.8784\n",
      "Epoch 6/10\n",
      "55000/55000 [==============================] - 6s 109us/sample - loss: 0.3310 - accuracy: 0.8815 - val_loss: 0.3314 - val_accuracy: 0.8814\n",
      "Epoch 7/10\n",
      "55000/55000 [==============================] - 6s 106us/sample - loss: 0.3176 - accuracy: 0.8847 - val_loss: 0.3272 - val_accuracy: 0.8860\n",
      "Epoch 8/10\n",
      "55000/55000 [==============================] - 6s 105us/sample - loss: 0.3073 - accuracy: 0.8890 - val_loss: 0.3202 - val_accuracy: 0.8820\n",
      "Epoch 9/10\n",
      "55000/55000 [==============================] - 6s 112us/sample - loss: 0.2977 - accuracy: 0.8919 - val_loss: 0.3186 - val_accuracy: 0.8834\n",
      "Epoch 10/10\n",
      "55000/55000 [==============================] - 6s 105us/sample - loss: 0.2869 - accuracy: 0.8956 - val_loss: 0.3227 - val_accuracy: 0.8820\n"
     ]
    }
   ],
   "source": [
    "history = model.fit(x_train, y_train, epochs=10, validation_data=(x_valid, y_valid))"
   ]
  },
  {
   "cell_type": "code",
   "execution_count": 20,
   "metadata": {},
   "outputs": [
    {
     "name": "stdout",
     "output_type": "stream",
     "text": [
      "Train on 55000 samples, validate on 5000 samples\n",
      "Epoch 1/10\n",
      "55000/55000 [==============================] - 6s 100us/sample - loss: 0.2778 - accuracy: 0.8995 - val_loss: 0.3119 - val_accuracy: 0.8856\n",
      "Epoch 2/10\n",
      "55000/55000 [==============================] - 6s 102us/sample - loss: 0.2711 - accuracy: 0.9018 - val_loss: 0.3043 - val_accuracy: 0.8886\n",
      "Epoch 3/10\n",
      "55000/55000 [==============================] - 6s 104us/sample - loss: 0.2626 - accuracy: 0.9050 - val_loss: 0.3207 - val_accuracy: 0.8858\n",
      "Epoch 4/10\n",
      "55000/55000 [==============================] - 6s 103us/sample - loss: 0.2588 - accuracy: 0.9053 - val_loss: 0.3252 - val_accuracy: 0.8834\n",
      "Epoch 5/10\n",
      "55000/55000 [==============================] - 6s 105us/sample - loss: 0.2504 - accuracy: 0.9080 - val_loss: 0.3086 - val_accuracy: 0.8864\n",
      "Epoch 6/10\n",
      "55000/55000 [==============================] - 6s 104us/sample - loss: 0.2447 - accuracy: 0.9094 - val_loss: 0.3192 - val_accuracy: 0.8896\n",
      "Epoch 7/10\n",
      "55000/55000 [==============================] - 6s 105us/sample - loss: 0.2376 - accuracy: 0.9144 - val_loss: 0.3169 - val_accuracy: 0.8868\n",
      "Epoch 8/10\n",
      "55000/55000 [==============================] - 6s 105us/sample - loss: 0.2332 - accuracy: 0.9148 - val_loss: 0.3054 - val_accuracy: 0.8896\n",
      "Epoch 9/10\n",
      "55000/55000 [==============================] - 6s 102us/sample - loss: 0.2280 - accuracy: 0.9154 - val_loss: 0.3035 - val_accuracy: 0.8942\n",
      "Epoch 10/10\n",
      "55000/55000 [==============================] - 6s 103us/sample - loss: 0.2218 - accuracy: 0.9181 - val_loss: 0.3165 - val_accuracy: 0.8866\n"
     ]
    }
   ],
   "source": [
    "history2=model.fit(x_train, y_train, epochs=10, validation_data=(x_valid, y_valid))"
   ]
  },
  {
   "cell_type": "code",
   "execution_count": 21,
   "metadata": {},
   "outputs": [
    {
     "name": "stdout",
     "output_type": "stream",
     "text": [
      "Train on 55000 samples, validate on 5000 samples\n",
      "Epoch 1/20\n",
      "55000/55000 [==============================] - 6s 103us/sample - loss: 0.2185 - accuracy: 0.9207 - val_loss: 0.3108 - val_accuracy: 0.8906\n",
      "Epoch 2/20\n",
      "55000/55000 [==============================] - 6s 102us/sample - loss: 0.2147 - accuracy: 0.9214 - val_loss: 0.3102 - val_accuracy: 0.8922\n",
      "Epoch 3/20\n",
      "55000/55000 [==============================] - 6s 102us/sample - loss: 0.2075 - accuracy: 0.9246 - val_loss: 0.3151 - val_accuracy: 0.8910\n",
      "Epoch 4/20\n",
      "55000/55000 [==============================] - 6s 103us/sample - loss: 0.2047 - accuracy: 0.9245 - val_loss: 0.3114 - val_accuracy: 0.8904\n",
      "Epoch 5/20\n",
      "55000/55000 [==============================] - 6s 101us/sample - loss: 0.2005 - accuracy: 0.9263 - val_loss: 0.3161 - val_accuracy: 0.8922\n",
      "Epoch 6/20\n",
      "55000/55000 [==============================] - 6s 101us/sample - loss: 0.1955 - accuracy: 0.9278 - val_loss: 0.3135 - val_accuracy: 0.8896\n",
      "Epoch 7/20\n",
      "55000/55000 [==============================] - 6s 101us/sample - loss: 0.1885 - accuracy: 0.9297 - val_loss: 0.3194 - val_accuracy: 0.8924\n",
      "Epoch 8/20\n",
      "55000/55000 [==============================] - 6s 102us/sample - loss: 0.1886 - accuracy: 0.9294 - val_loss: 0.3186 - val_accuracy: 0.8898\n",
      "Epoch 9/20\n",
      "55000/55000 [==============================] - 6s 104us/sample - loss: 0.1811 - accuracy: 0.9342 - val_loss: 0.3221 - val_accuracy: 0.8916\n",
      "Epoch 10/20\n",
      "55000/55000 [==============================] - 6s 104us/sample - loss: 0.1789 - accuracy: 0.9341 - val_loss: 0.3288 - val_accuracy: 0.8884\n",
      "Epoch 11/20\n",
      "55000/55000 [==============================] - 6s 105us/sample - loss: 0.1764 - accuracy: 0.9344 - val_loss: 0.3342 - val_accuracy: 0.8880\n",
      "Epoch 12/20\n",
      "55000/55000 [==============================] - 6s 105us/sample - loss: 0.1727 - accuracy: 0.9366 - val_loss: 0.3370 - val_accuracy: 0.8884\n",
      "Epoch 13/20\n",
      "55000/55000 [==============================] - 6s 106us/sample - loss: 0.1713 - accuracy: 0.9375 - val_loss: 0.3166 - val_accuracy: 0.8964\n",
      "Epoch 14/20\n",
      "55000/55000 [==============================] - 6s 105us/sample - loss: 0.1670 - accuracy: 0.9399 - val_loss: 0.3369 - val_accuracy: 0.8910\n",
      "Epoch 15/20\n",
      "55000/55000 [==============================] - 6s 105us/sample - loss: 0.1612 - accuracy: 0.9410 - val_loss: 0.3335 - val_accuracy: 0.8914\n",
      "Epoch 16/20\n",
      "55000/55000 [==============================] - 6s 109us/sample - loss: 0.1592 - accuracy: 0.9410 - val_loss: 0.3330 - val_accuracy: 0.8922\n",
      "Epoch 17/20\n",
      "55000/55000 [==============================] - 6s 109us/sample - loss: 0.1559 - accuracy: 0.9416 - val_loss: 0.3445 - val_accuracy: 0.8894\n",
      "Epoch 18/20\n",
      "55000/55000 [==============================] - 6s 107us/sample - loss: 0.1558 - accuracy: 0.9422 - val_loss: 0.3354 - val_accuracy: 0.8932\n",
      "Epoch 19/20\n",
      "55000/55000 [==============================] - 6s 105us/sample - loss: 0.1494 - accuracy: 0.9460 - val_loss: 0.3410 - val_accuracy: 0.8932\n",
      "Epoch 20/20\n",
      "55000/55000 [==============================] - 6s 104us/sample - loss: 0.1500 - accuracy: 0.9447 - val_loss: 0.3452 - val_accuracy: 0.8860\n"
     ]
    }
   ],
   "source": [
    "history3=model.fit(x_train, y_train, epochs=20, validation_data=(x_valid, y_valid))"
   ]
  },
  {
   "cell_type": "code",
   "execution_count": 22,
   "metadata": {},
   "outputs": [
    {
     "data": {
      "text/plain": [
       "(0.0, 1.0)"
      ]
     },
     "execution_count": 22,
     "metadata": {},
     "output_type": "execute_result"
    },
    {
     "data": {
      "image/png": "[encoded data removed]",
      "text/plain": [
       "<Figure size 576x360 with 1 Axes>"
      ]
     },
     "metadata": {
      "needs_background": "light"
     },
     "output_type": "display_data"
    }
   ],
   "source": [
    "pd.DataFrame(history.history).plot(figsize=(8,5))\n",
    "plt.grid(True)\n",
    "plt.gca().set_ylim(0,1) "
   ]
  },
  {
   "cell_type": "code",
   "execution_count": 24,
   "metadata": {},
   "outputs": [
    {
     "data": {
      "text/plain": [
       "(0.0, 1.0)"
      ]
     },
     "execution_count": 24,
     "metadata": {},
     "output_type": "execute_result"
    },
    {
     "data": {
      "image/png": "[encoded data removed]",
      "text/plain": [
       "<Figure size 576x360 with 1 Axes>"
      ]
     },
     "metadata": {
      "needs_background": "light"
     },
     "output_type": "display_data"
    }
   ],
   "source": [
    "pd.DataFrame(history2.history).plot(figsize=(8,5))\n",
    "plt.grid(True)\n",
    "plt.gca().set_ylim(0,1) "
   ]
  },
  {
   "cell_type": "code",
   "execution_count": 25,
   "metadata": {},
   "outputs": [
    {
     "data": {
      "text/plain": [
       "(0.0, 1.0)"
      ]
     },
     "execution_count": 25,
     "metadata": {},
     "output_type": "execute_result"
    },
    {
     "data": {
      "image/png": "[encoded data removed]",
      "text/plain": [
       "<Figure size 576x360 with 1 Axes>"
      ]
     },
     "metadata": {
      "needs_background": "light"
     },
     "output_type": "display_data"
    }
   ],
   "source": [
    "pd.DataFrame(history3.history).plot(figsize=(8,5))\n",
    "plt.grid(True)\n",
    "plt.gca().set_ylim(0,1)"
   ]
  },
  {
   "cell_type": "code",
   "execution_count": 77,
   "metadata": {},
   "outputs": [],
   "source": [
    "def build_model(n_hidden=1, n_neurons=3, learning_rate=3e-3, input_shape=[28,28]):\n",
    "    model = keras.models.Sequential()\n",
    "    model.add(keras.layers.Flatten(input_shape=[28, 28]))\n",
    "    \n",
    "    for layer in range(n_hidden):\n",
    "        model.add(keras.layers.BatchNormalization())\n",
    "        model.add(keras.layers.Dense(300, activation=\"elu\", kernel_initializer=\"he_normal\"))\n",
    "        \n",
    "    model.add(keras.layers.BatchNormalization())\n",
    "    model.add(keras.layers.Dense(100, activation=\"elu\", kernel_initializer=\"he_normal\"))\n",
    "    model.add(keras.layers.BatchNormalization())\n",
    "    model.add(keras.layers.Dense(10, activation=\"softmax\"))\n",
    "    \n",
    "    optimizer = keras.optimizers.SGD(lr=learning_rate)\n",
    "    \n",
    "    model.compile(loss=\"sparse_categorical_crossentropy\",\n",
    "             optimizer=optimizer,\n",
    "                 metrics=['accuracy'])\n",
    "    \n",
    "    return model\n",
    "\n",
    "\n"
   ]
  },
  {
   "cell_type": "code",
   "execution_count": 76,
   "metadata": {},
   "outputs": [
    {
     "name": "stdout",
     "output_type": "stream",
     "text": [
      "Train on 55000 samples, validate on 5000 samples\n",
      "Epoch 1/5\n",
      "54912/55000 [============================>.] - ETA: 0s - loss: 0.6577 - accuracy: 0.7737\n",
      "Epoch 00001: val_accuracy improved from -inf to 0.83800, saving model to best_model.h5\n",
      "55000/55000 [==============================] - 7s 128us/sample - loss: 0.6576 - accuracy: 0.7738 - val_loss: 0.4709 - val_accuracy: 0.8380\n",
      "Epoch 2/5\n",
      "54560/55000 [============================>.] - ETA: 0s - loss: 0.4916 - accuracy: 0.8277\n",
      "Epoch 00002: val_accuracy improved from 0.83800 to 0.85600, saving model to best_model.h5\n",
      "55000/55000 [==============================] - 6s 108us/sample - loss: 0.4913 - accuracy: 0.8278 - val_loss: 0.4232 - val_accuracy: 0.8560\n",
      "Epoch 3/5\n",
      "54688/55000 [============================>.] - ETA: 0s - loss: 0.4493 - accuracy: 0.8435\n",
      "Epoch 00003: val_accuracy improved from 0.85600 to 0.85900, saving model to best_model.h5\n",
      "55000/55000 [==============================] - 6s 106us/sample - loss: 0.4488 - accuracy: 0.8436 - val_loss: 0.4023 - val_accuracy: 0.8590\n",
      "Epoch 4/5\n",
      "54944/55000 [============================>.] - ETA: 0s - loss: 0.4278 - accuracy: 0.8491\n",
      "Epoch 00004: val_accuracy improved from 0.85900 to 0.86380, saving model to best_model.h5\n",
      "55000/55000 [==============================] - 6s 110us/sample - loss: 0.4277 - accuracy: 0.8492 - val_loss: 0.3858 - val_accuracy: 0.8638\n",
      "Epoch 5/5\n",
      "54880/55000 [============================>.] - ETA: 0s - loss: 0.4099 - accuracy: 0.8552\n",
      "Epoch 00005: val_accuracy did not improve from 0.86380\n",
      "55000/55000 [==============================] - 6s 118us/sample - loss: 0.4101 - accuracy: 0.8553 - val_loss: 0.3772 - val_accuracy: 0.8630\n"
     ]
    },
    {
     "data": {
      "text/plain": [
       "<tensorflow.python.keras.callbacks.History at 0x1d7bcda0748>"
      ]
     },
     "execution_count": 76,
     "metadata": {},
     "output_type": "execute_result"
    }
   ],
   "source": [
    "keras_reg = keras.wrappers.scikit_learn.KerasRegressor(build_model)\n",
    "\n",
    "filepath=\"inference.weights.best.hdf5\"\n",
    "\n",
    "mc = keras.callbacks.ModelCheckpoint('best_model.h5', monitor='val_accuracy', mode='max', verbose=1, save_best_only=True)\n",
    "es = keras.callbacks.EarlyStopping(monitor='val_loss', mode='min', verbose=1, patience=3)\n",
    "\n",
    "callbacks_list = [mc,es]\n",
    "\n",
    "keras_reg.fit(x_train,y_train, epochs=5,\n",
    "             validation_data=(x_valid,y_valid),\n",
    "              callbacks=callbacks_list\n",
    "           )"
   ]
  },
  {
   "cell_type": "code",
   "execution_count": 74,
   "metadata": {},
   "outputs": [],
   "source": [
    "from scipy.stats import reciprocal\n",
    "from sklearn.model_selection import RandomizedSearchCV"
   ]
  },
  {
   "cell_type": "code",
   "execution_count": 80,
   "metadata": {},
   "outputs": [],
   "source": [
    "param_distribs = {\n",
    "    \"n_hidden\": [0, 1, 2, 3],\n",
    "    \"n_neurons\": np.arange(1, 100),\n",
    "    \"learning_rate\": reciprocal(3e-4, 3e-2),\n",
    "}"
   ]
  },
  {
   "cell_type": "code",
   "execution_count": 81,
   "metadata": {},
   "outputs": [],
   "source": [
    "rnd_search_cv = RandomizedSearchCV(keras_reg, param_distribs, n_iter=10, cv=3)"
   ]
  },
  {
   "cell_type": "code",
   "execution_count": 82,
   "metadata": {},
   "outputs": [
    {
     "name": "stdout",
     "output_type": "stream",
     "text": [
      "Train on 36666 samples, validate on 5000 samples\n",
      "Epoch 1/10\n",
      "36640/36666 [============================>.] - ETA: 0s - loss: 0.7807 - accuracy: 0.7346\n",
      "Epoch 00001: val_accuracy improved from -inf to 0.82020, saving model to best_model.h5\n",
      "36666/36666 [==============================] - 6s 155us/sample - loss: 0.7805 - accuracy: 0.7347 - val_loss: 0.5220 - val_accuracy: 0.8202\n",
      "Epoch 2/10\n",
      "36320/36666 [============================>.] - ETA: 0s - loss: 0.5451 - accuracy: 0.8105\n",
      "Epoch 00002: val_accuracy improved from 0.82020 to 0.84060, saving model to best_model.h5\n",
      "36666/36666 [==============================] - 5s 132us/sample - loss: 0.5448 - accuracy: 0.8104 - val_loss: 0.4622 - val_accuracy: 0.8406\n",
      "Epoch 3/10\n",
      "36448/36666 [============================>.] - ETA: 0s - loss: 0.4944 - accuracy: 0.8275\n",
      "Epoch 00003: val_accuracy improved from 0.84060 to 0.85000, saving model to best_model.h5\n",
      "36666/36666 [==============================] - 5s 136us/sample - loss: 0.4947 - accuracy: 0.8274 - val_loss: 0.4315 - val_accuracy: 0.8500\n",
      "Epoch 4/10\n",
      "36544/36666 [============================>.] - ETA: 0s - loss: 0.4648 - accuracy: 0.8369\n",
      "Epoch 00004: val_accuracy improved from 0.85000 to 0.85620, saving model to best_model.h5\n",
      "36666/36666 [==============================] - 5s 133us/sample - loss: 0.4646 - accuracy: 0.8370 - val_loss: 0.4131 - val_accuracy: 0.8562\n",
      "Epoch 5/10\n",
      "36288/36666 [============================>.] - ETA: 0s - loss: 0.4444 - accuracy: 0.8431\n",
      "Epoch 00005: val_accuracy improved from 0.85620 to 0.85860, saving model to best_model.h5\n",
      "36666/36666 [==============================] - 5s 134us/sample - loss: 0.4446 - accuracy: 0.8432 - val_loss: 0.4010 - val_accuracy: 0.8586\n",
      "Epoch 6/10\n",
      "36320/36666 [============================>.] - ETA: 0s - loss: 0.4273 - accuracy: 0.8491\n",
      "Epoch 00006: val_accuracy improved from 0.85860 to 0.86240, saving model to best_model.h5\n",
      "36666/36666 [==============================] - 5s 133us/sample - loss: 0.4281 - accuracy: 0.8490 - val_loss: 0.3909 - val_accuracy: 0.8624\n",
      "Epoch 7/10\n",
      "36480/36666 [============================>.] - ETA: 0s - loss: 0.4127 - accuracy: 0.8539\n",
      "Epoch 00007: val_accuracy did not improve from 0.86240\n",
      "36666/36666 [==============================] - 5s 134us/sample - loss: 0.4131 - accuracy: 0.8538 - val_loss: 0.3848 - val_accuracy: 0.8612\n",
      "Epoch 8/10\n",
      "36256/36666 [============================>.] - ETA: 0s - loss: 0.4041 - accuracy: 0.8557\n",
      "Epoch 00008: val_accuracy improved from 0.86240 to 0.86360, saving model to best_model.h5\n",
      "36666/36666 [==============================] - 5s 134us/sample - loss: 0.4036 - accuracy: 0.8558 - val_loss: 0.3772 - val_accuracy: 0.8636\n",
      "Epoch 9/10\n",
      "36416/36666 [============================>.] - ETA: 0s - loss: 0.3921 - accuracy: 0.8603\n",
      "Epoch 00009: val_accuracy improved from 0.86360 to 0.86440, saving model to best_model.h5\n",
      "36666/36666 [==============================] - 5s 134us/sample - loss: 0.3919 - accuracy: 0.8606 - val_loss: 0.3724 - val_accuracy: 0.8644\n",
      "Epoch 10/10\n",
      "36416/36666 [============================>.] - ETA: 0s - loss: 0.3791 - accuracy: 0.8667\n",
      "Epoch 00010: val_accuracy improved from 0.86440 to 0.86500, saving model to best_model.h5\n",
      "36666/36666 [==============================] - 5s 136us/sample - loss: 0.3791 - accuracy: 0.8667 - val_loss: 0.3703 - val_accuracy: 0.8650\n",
      "18334/18334 [==============================] - 1s 49us/sample - loss: 0.3757 - accuracy: 0.8664\n",
      "Train on 36667 samples, validate on 5000 samples\n",
      "Epoch 1/10\n",
      "36608/36667 [============================>.] - ETA: 0s - loss: 0.7906 - accuracy: 0.7315\n",
      "Epoch 00001: val_accuracy did not improve from 0.86500\n",
      "36667/36667 [==============================] - 6s 160us/sample - loss: 0.7902 - accuracy: 0.7316 - val_loss: 0.5288 - val_accuracy: 0.8216\n",
      "Epoch 2/10\n",
      "36320/36667 [============================>.] - ETA: 0s - loss: 0.5539 - accuracy: 0.8056\n",
      "Epoch 00002: val_accuracy did not improve from 0.86500\n",
      "36667/36667 [==============================] - 5s 136us/sample - loss: 0.5530 - accuracy: 0.8062 - val_loss: 0.4681 - val_accuracy: 0.8428\n",
      "Epoch 3/10\n",
      "36448/36667 [============================>.] - ETA: 0s - loss: 0.5000 - accuracy: 0.8245\n",
      "Epoch 00003: val_accuracy did not improve from 0.86500\n",
      "36667/36667 [==============================] - 5s 133us/sample - loss: 0.4996 - accuracy: 0.8246 - val_loss: 0.4391 - val_accuracy: 0.8470\n",
      "Epoch 4/10\n",
      "36640/36667 [============================>.] - ETA: 0s - loss: 0.4698 - accuracy: 0.8341\n",
      "Epoch 00004: val_accuracy did not improve from 0.86500\n",
      "36667/36667 [==============================] - 5s 131us/sample - loss: 0.4698 - accuracy: 0.8341 - val_loss: 0.4182 - val_accuracy: 0.8546\n",
      "Epoch 5/10\n",
      "36352/36667 [============================>.] - ETA: 0s - loss: 0.4463 - accuracy: 0.8428\n",
      "Epoch 00005: val_accuracy did not improve from 0.86500\n",
      "36667/36667 [==============================] - 5s 131us/sample - loss: 0.4459 - accuracy: 0.8430 - val_loss: 0.4033 - val_accuracy: 0.8604\n",
      "Epoch 6/10\n",
      "36480/36667 [============================>.] - ETA: 0s - loss: 0.4312 - accuracy: 0.8480\n",
      "Epoch 00006: val_accuracy did not improve from 0.86500\n",
      "36667/36667 [==============================] - 5s 131us/sample - loss: 0.4310 - accuracy: 0.8480 - val_loss: 0.3933 - val_accuracy: 0.8630\n",
      "Epoch 7/10\n",
      "36384/36667 [============================>.] - ETA: 0s - loss: 0.4153 - accuracy: 0.8512\n",
      "Epoch 00007: val_accuracy improved from 0.86500 to 0.86580, saving model to best_model.h5\n",
      "36667/36667 [==============================] - 5s 131us/sample - loss: 0.4148 - accuracy: 0.8513 - val_loss: 0.3834 - val_accuracy: 0.8658\n",
      "Epoch 8/10\n",
      "36320/36667 [============================>.] - ETA: 0s - loss: 0.4033 - accuracy: 0.8572\n",
      "Epoch 00008: val_accuracy did not improve from 0.86580\n",
      "36667/36667 [==============================] - 5s 132us/sample - loss: 0.4039 - accuracy: 0.8570 - val_loss: 0.3794 - val_accuracy: 0.8648\n",
      "Epoch 9/10\n",
      "36320/36667 [============================>.] - ETA: 0s - loss: 0.3942 - accuracy: 0.8606\n",
      "Epoch 00009: val_accuracy improved from 0.86580 to 0.86620, saving model to best_model.h5\n",
      "36667/36667 [==============================] - 5s 131us/sample - loss: 0.3944 - accuracy: 0.8606 - val_loss: 0.3750 - val_accuracy: 0.8662\n",
      "Epoch 10/10\n",
      "36480/36667 [============================>.] - ETA: 0s - loss: 0.3830 - accuracy: 0.8630\n",
      "Epoch 00010: val_accuracy improved from 0.86620 to 0.86920, saving model to best_model.h5\n",
      "36667/36667 [==============================] - 5s 132us/sample - loss: 0.3830 - accuracy: 0.8630 - val_loss: 0.3701 - val_accuracy: 0.8692\n",
      "18333/18333 [==============================] - 1s 49us/sample - loss: 0.3736 - accuracy: 0.8698\n",
      "Train on 36667 samples, validate on 5000 samples\n",
      "Epoch 1/10\n",
      "36448/36667 [============================>.] - ETA: 0s - loss: 0.7855 - accuracy: 0.7329\n",
      "Epoch 00001: val_accuracy did not improve from 0.86920\n",
      "36667/36667 [==============================] - 6s 151us/sample - loss: 0.7843 - accuracy: 0.7331 - val_loss: 0.5229 - val_accuracy: 0.8226\n",
      "Epoch 2/10\n",
      "36512/36667 [============================>.] - ETA: 0s - loss: 0.5467 - accuracy: 0.8087\n",
      "Epoch 00002: val_accuracy did not improve from 0.86920\n",
      "36667/36667 [==============================] - 5s 131us/sample - loss: 0.5463 - accuracy: 0.8089 - val_loss: 0.4576 - val_accuracy: 0.8418\n",
      "Epoch 3/10\n",
      "36512/36667 [============================>.] - ETA: 0s - loss: 0.4925 - accuracy: 0.8273\n",
      "Epoch 00003: val_accuracy did not improve from 0.86920\n",
      "36667/36667 [==============================] - 5s 130us/sample - loss: 0.4921 - accuracy: 0.8276 - val_loss: 0.4292 - val_accuracy: 0.8504\n",
      "Epoch 4/10\n",
      "36448/36667 [============================>.] - ETA: 0s - loss: 0.4647 - accuracy: 0.8361\n",
      "Epoch 00004: val_accuracy did not improve from 0.86920\n",
      "36667/36667 [==============================] - 5s 129us/sample - loss: 0.4644 - accuracy: 0.8363 - val_loss: 0.4110 - val_accuracy: 0.8538\n",
      "Epoch 5/10\n",
      "36448/36667 [============================>.] - ETA: 0s - loss: 0.4422 - accuracy: 0.8445\n",
      "Epoch 00005: val_accuracy did not improve from 0.86920\n",
      "36667/36667 [==============================] - 5s 130us/sample - loss: 0.4419 - accuracy: 0.8447 - val_loss: 0.3982 - val_accuracy: 0.8594\n",
      "Epoch 6/10\n",
      "36384/36667 [============================>.] - ETA: 0s - loss: 0.4249 - accuracy: 0.8506\n",
      "Epoch 00006: val_accuracy did not improve from 0.86920\n",
      "36667/36667 [==============================] - 5s 127us/sample - loss: 0.4247 - accuracy: 0.8506 - val_loss: 0.3903 - val_accuracy: 0.8612\n",
      "Epoch 7/10\n",
      "36512/36667 [============================>.] - ETA: 0s - loss: 0.4107 - accuracy: 0.8551\n",
      "Epoch 00007: val_accuracy did not improve from 0.86920\n",
      "36667/36667 [==============================] - 5s 127us/sample - loss: 0.4105 - accuracy: 0.8551 - val_loss: 0.3834 - val_accuracy: 0.8648\n",
      "Epoch 8/10\n",
      "36512/36667 [============================>.] - ETA: 0s - loss: 0.3971 - accuracy: 0.8589\n",
      "Epoch 00008: val_accuracy improved from 0.86920 to 0.86940, saving model to best_model.h5\n",
      "36667/36667 [==============================] - 5s 129us/sample - loss: 0.3971 - accuracy: 0.8589 - val_loss: 0.3754 - val_accuracy: 0.8694\n",
      "Epoch 9/10\n",
      "36384/36667 [============================>.] - ETA: 0s - loss: 0.3859 - accuracy: 0.8628\n",
      "Epoch 00009: val_accuracy improved from 0.86940 to 0.87200, saving model to best_model.h5\n",
      "36667/36667 [==============================] - 5s 129us/sample - loss: 0.3854 - accuracy: 0.8629 - val_loss: 0.3705 - val_accuracy: 0.8720\n",
      "Epoch 10/10\n",
      "36448/36667 [============================>.] - ETA: 0s - loss: 0.3777 - accuracy: 0.8649\n",
      "Epoch 00010: val_accuracy improved from 0.87200 to 0.87280, saving model to best_model.h5\n",
      "36667/36667 [==============================] - 5s 129us/sample - loss: 0.3773 - accuracy: 0.8650 - val_loss: 0.3676 - val_accuracy: 0.8728\n",
      "18333/18333 [==============================] - 1s 49us/sample - loss: 0.3694 - accuracy: 0.8669\n",
      "Train on 36666 samples, validate on 5000 samples\n",
      "Epoch 1/10\n",
      "36352/36666 [============================>.] - ETA: 0s - loss: 0.5917 - accuracy: 0.7934\n",
      "Epoch 00001: val_accuracy did not improve from 0.87280\n",
      "36666/36666 [==============================] - 6s 152us/sample - loss: 0.5907 - accuracy: 0.7938 - val_loss: 0.4168 - val_accuracy: 0.8560\n",
      "Epoch 2/10\n",
      "36256/36666 [============================>.] - ETA: 0s - loss: 0.4367 - accuracy: 0.8449\n",
      "Epoch 00002: val_accuracy did not improve from 0.87280\n",
      "36666/36666 [==============================] - 5s 129us/sample - loss: 0.4364 - accuracy: 0.8449 - val_loss: 0.3806 - val_accuracy: 0.8686\n",
      "Epoch 3/10\n",
      "36608/36666 [============================>.] - ETA: 0s - loss: 0.3939 - accuracy: 0.8606\n",
      "Epoch 00003: val_accuracy improved from 0.87280 to 0.87360, saving model to best_model.h5\n",
      "36666/36666 [==============================] - 5s 130us/sample - loss: 0.3937 - accuracy: 0.8607 - val_loss: 0.3614 - val_accuracy: 0.8736\n",
      "Epoch 4/10\n",
      "36480/36666 [============================>.] - ETA: 0s - loss: 0.3702 - accuracy: 0.8686\n",
      "Epoch 00004: val_accuracy improved from 0.87360 to 0.87840, saving model to best_model.h5\n",
      "36666/36666 [==============================] - 5s 130us/sample - loss: 0.3698 - accuracy: 0.8689 - val_loss: 0.3545 - val_accuracy: 0.8784\n",
      "Epoch 5/10\n",
      "36576/36666 [============================>.] - ETA: 0s - loss: 0.3480 - accuracy: 0.8763\n",
      "Epoch 00005: val_accuracy improved from 0.87840 to 0.88320, saving model to best_model.h5\n",
      "36666/36666 [==============================] - 5s 133us/sample - loss: 0.3478 - accuracy: 0.8764 - val_loss: 0.3427 - val_accuracy: 0.8832\n",
      "Epoch 6/10\n",
      "36608/36666 [============================>.] - ETA: 0s - loss: 0.3274 - accuracy: 0.8819\n",
      "Epoch 00006: val_accuracy did not improve from 0.88320\n",
      "36666/36666 [==============================] - 5s 141us/sample - loss: 0.3273 - accuracy: 0.8820 - val_loss: 0.3438 - val_accuracy: 0.8792\n",
      "Epoch 7/10\n",
      "36608/36666 [============================>.] - ETA: 0s - loss: 0.3146 - accuracy: 0.8872\n",
      "Epoch 00007: val_accuracy improved from 0.88320 to 0.88400, saving model to best_model.h5\n",
      "36666/36666 [==============================] - 5s 138us/sample - loss: 0.3144 - accuracy: 0.8872 - val_loss: 0.3300 - val_accuracy: 0.8840\n",
      "Epoch 8/10\n",
      "36608/36666 [============================>.] - ETA: 0s - loss: 0.3006 - accuracy: 0.8920\n",
      "Epoch 00008: val_accuracy improved from 0.88400 to 0.88620, saving model to best_model.h5\n",
      "36666/36666 [==============================] - 5s 134us/sample - loss: 0.3004 - accuracy: 0.8920 - val_loss: 0.3299 - val_accuracy: 0.8862\n",
      "Epoch 9/10\n",
      "36608/36666 [============================>.] - ETA: 0s - loss: 0.2901 - accuracy: 0.8964\n",
      "Epoch 00009: val_accuracy did not improve from 0.88620\n",
      "36666/36666 [==============================] - 5s 135us/sample - loss: 0.2902 - accuracy: 0.8963 - val_loss: 0.3344 - val_accuracy: 0.8838\n",
      "Epoch 10/10\n",
      "36384/36666 [============================>.] - ETA: 0s - loss: 0.2806 - accuracy: 0.8995\n",
      "Epoch 00010: val_accuracy improved from 0.88620 to 0.88700, saving model to best_model.h5\n",
      "36666/36666 [==============================] - 5s 136us/sample - loss: 0.2808 - accuracy: 0.8993 - val_loss: 0.3288 - val_accuracy: 0.8870\n",
      "18334/18334 [==============================] - 1s 51us/sample - loss: 0.3234 - accuracy: 0.8844\n",
      "Train on 36667 samples, validate on 5000 samples\n",
      "Epoch 1/10\n",
      "36640/36667 [============================>.] - ETA: 0s - loss: 0.5982 - accuracy: 0.7915\n",
      "Epoch 00001: val_accuracy did not improve from 0.88700\n",
      "36667/36667 [==============================] - 6s 171us/sample - loss: 0.5982 - accuracy: 0.7915 - val_loss: 0.4283 - val_accuracy: 0.8494\n",
      "Epoch 2/10\n",
      "36576/36667 [============================>.] - ETA: 0s - loss: 0.4390 - accuracy: 0.8439\n",
      "Epoch 00002: val_accuracy did not improve from 0.88700\n",
      "36667/36667 [==============================] - 5s 141us/sample - loss: 0.4385 - accuracy: 0.8441 - val_loss: 0.3931 - val_accuracy: 0.8610\n",
      "Epoch 3/10\n",
      "30368/36667 [=======================>......] - ETA: 0s - loss: 0.4000 - accuracy: 0.8580WARNING:tensorflow:Can save best model only with val_accuracy available, skipping.\n",
      "WARNING:tensorflow:Early stopping conditioned on metric `val_loss` which is not available. Available metrics are: loss,accuracy\n"
     ]
    },
    {
     "ename": "KeyboardInterrupt",
     "evalue": "",
     "output_type": "error",
     "traceback": [
      "\u001b[1;31m---------------------------------------------------------------------------\u001b[0m",
      "\u001b[1;31mKeyboardInterrupt\u001b[0m                         Traceback (most recent call last)",
      "\u001b[1;32m<ipython-input-82-499ad2ce0850>\u001b[0m in \u001b[0;36m<module>\u001b[1;34m\u001b[0m\n\u001b[0;32m      8\u001b[0m rnd_search_cv.fit(x_train, y_train, epochs=10,\n\u001b[0;32m      9\u001b[0m                 \u001b[0mvalidation_data\u001b[0m\u001b[1;33m=\u001b[0m\u001b[1;33m(\u001b[0m\u001b[0mx_valid\u001b[0m\u001b[1;33m,\u001b[0m \u001b[0my_valid\u001b[0m\u001b[1;33m)\u001b[0m\u001b[1;33m,\u001b[0m\u001b[1;33m\u001b[0m\u001b[1;33m\u001b[0m\u001b[0m\n\u001b[1;32m---> 10\u001b[1;33m                 callbacks=callbacks_list)\n\u001b[0m",
      "\u001b[1;32mC:\\ProgramData\\Anaconda3\\envs\\tensorflow\\lib\\site-packages\\sklearn\\utils\\validation.py\u001b[0m in \u001b[0;36minner_f\u001b[1;34m(*args, **kwargs)\u001b[0m\n\u001b[0;32m     70\u001b[0m                           FutureWarning)\n\u001b[0;32m     71\u001b[0m         \u001b[0mkwargs\u001b[0m\u001b[1;33m.\u001b[0m\u001b[0mupdate\u001b[0m\u001b[1;33m(\u001b[0m\u001b[1;33m{\u001b[0m\u001b[0mk\u001b[0m\u001b[1;33m:\u001b[0m \u001b[0marg\u001b[0m \u001b[1;32mfor\u001b[0m \u001b[0mk\u001b[0m\u001b[1;33m,\u001b[0m \u001b[0marg\u001b[0m \u001b[1;32min\u001b[0m \u001b[0mzip\u001b[0m\u001b[1;33m(\u001b[0m\u001b[0msig\u001b[0m\u001b[1;33m.\u001b[0m\u001b[0mparameters\u001b[0m\u001b[1;33m,\u001b[0m \u001b[0margs\u001b[0m\u001b[1;33m)\u001b[0m\u001b[1;33m}\u001b[0m\u001b[1;33m)\u001b[0m\u001b[1;33m\u001b[0m\u001b[1;33m\u001b[0m\u001b[0m\n\u001b[1;32m---> 72\u001b[1;33m         \u001b[1;32mreturn\u001b[0m \u001b[0mf\u001b[0m\u001b[1;33m(\u001b[0m\u001b[1;33m**\u001b[0m\u001b[0mkwargs\u001b[0m\u001b[1;33m)\u001b[0m\u001b[1;33m\u001b[0m\u001b[1;33m\u001b[0m\u001b[0m\n\u001b[0m\u001b[0;32m     73\u001b[0m     \u001b[1;32mreturn\u001b[0m \u001b[0minner_f\u001b[0m\u001b[1;33m\u001b[0m\u001b[1;33m\u001b[0m\u001b[0m\n\u001b[0;32m     74\u001b[0m \u001b[1;33m\u001b[0m\u001b[0m\n",
      "\u001b[1;32mC:\\ProgramData\\Anaconda3\\envs\\tensorflow\\lib\\site-packages\\sklearn\\model_selection\\_search.py\u001b[0m in \u001b[0;36mfit\u001b[1;34m(self, X, y, groups, **fit_params)\u001b[0m\n\u001b[0;32m    734\u001b[0m                 \u001b[1;32mreturn\u001b[0m \u001b[0mresults\u001b[0m\u001b[1;33m\u001b[0m\u001b[1;33m\u001b[0m\u001b[0m\n\u001b[0;32m    735\u001b[0m \u001b[1;33m\u001b[0m\u001b[0m\n\u001b[1;32m--> 736\u001b[1;33m             \u001b[0mself\u001b[0m\u001b[1;33m.\u001b[0m\u001b[0m_run_search\u001b[0m\u001b[1;33m(\u001b[0m\u001b[0mevaluate_candidates\u001b[0m\u001b[1;33m)\u001b[0m\u001b[1;33m\u001b[0m\u001b[1;33m\u001b[0m\u001b[0m\n\u001b[0m\u001b[0;32m    737\u001b[0m \u001b[1;33m\u001b[0m\u001b[0m\n\u001b[0;32m    738\u001b[0m         \u001b[1;31m# For multi-metric evaluation, store the best_index_, best_params_ and\u001b[0m\u001b[1;33m\u001b[0m\u001b[1;33m\u001b[0m\u001b[1;33m\u001b[0m\u001b[0m\n",
      "\u001b[1;32mC:\\ProgramData\\Anaconda3\\envs\\tensorflow\\lib\\site-packages\\sklearn\\model_selection\\_search.py\u001b[0m in \u001b[0;36m_run_search\u001b[1;34m(self, evaluate_candidates)\u001b[0m\n\u001b[0;32m   1529\u001b[0m         evaluate_candidates(ParameterSampler(\n\u001b[0;32m   1530\u001b[0m             \u001b[0mself\u001b[0m\u001b[1;33m.\u001b[0m\u001b[0mparam_distributions\u001b[0m\u001b[1;33m,\u001b[0m \u001b[0mself\u001b[0m\u001b[1;33m.\u001b[0m\u001b[0mn_iter\u001b[0m\u001b[1;33m,\u001b[0m\u001b[1;33m\u001b[0m\u001b[1;33m\u001b[0m\u001b[0m\n\u001b[1;32m-> 1531\u001b[1;33m             random_state=self.random_state))\n\u001b[0m",
      "\u001b[1;32mC:\\ProgramData\\Anaconda3\\envs\\tensorflow\\lib\\site-packages\\sklearn\\model_selection\\_search.py\u001b[0m in \u001b[0;36mevaluate_candidates\u001b[1;34m(candidate_params)\u001b[0m\n\u001b[0;32m    713\u001b[0m                                \u001b[1;32mfor\u001b[0m \u001b[0mparameters\u001b[0m\u001b[1;33m,\u001b[0m \u001b[1;33m(\u001b[0m\u001b[0mtrain\u001b[0m\u001b[1;33m,\u001b[0m \u001b[0mtest\u001b[0m\u001b[1;33m)\u001b[0m\u001b[1;33m\u001b[0m\u001b[1;33m\u001b[0m\u001b[0m\n\u001b[0;32m    714\u001b[0m                                in product(candidate_params,\n\u001b[1;32m--> 715\u001b[1;33m                                           cv.split(X, y, groups)))\n\u001b[0m\u001b[0;32m    716\u001b[0m \u001b[1;33m\u001b[0m\u001b[0m\n\u001b[0;32m    717\u001b[0m                 \u001b[1;32mif\u001b[0m \u001b[0mlen\u001b[0m\u001b[1;33m(\u001b[0m\u001b[0mout\u001b[0m\u001b[1;33m)\u001b[0m \u001b[1;33m<\u001b[0m \u001b[1;36m1\u001b[0m\u001b[1;33m:\u001b[0m\u001b[1;33m\u001b[0m\u001b[1;33m\u001b[0m\u001b[0m\n",
      "\u001b[1;32mC:\\ProgramData\\Anaconda3\\envs\\tensorflow\\lib\\site-packages\\joblib\\parallel.py\u001b[0m in \u001b[0;36m__call__\u001b[1;34m(self, iterable)\u001b[0m\n\u001b[0;32m   1049\u001b[0m                 \u001b[0mself\u001b[0m\u001b[1;33m.\u001b[0m\u001b[0m_iterating\u001b[0m \u001b[1;33m=\u001b[0m \u001b[0mself\u001b[0m\u001b[1;33m.\u001b[0m\u001b[0m_original_iterator\u001b[0m \u001b[1;32mis\u001b[0m \u001b[1;32mnot\u001b[0m \u001b[1;32mNone\u001b[0m\u001b[1;33m\u001b[0m\u001b[1;33m\u001b[0m\u001b[0m\n\u001b[0;32m   1050\u001b[0m \u001b[1;33m\u001b[0m\u001b[0m\n\u001b[1;32m-> 1051\u001b[1;33m             \u001b[1;32mwhile\u001b[0m \u001b[0mself\u001b[0m\u001b[1;33m.\u001b[0m\u001b[0mdispatch_one_batch\u001b[0m\u001b[1;33m(\u001b[0m\u001b[0miterator\u001b[0m\u001b[1;33m)\u001b[0m\u001b[1;33m:\u001b[0m\u001b[1;33m\u001b[0m\u001b[1;33m\u001b[0m\u001b[0m\n\u001b[0m\u001b[0;32m   1052\u001b[0m                 \u001b[1;32mpass\u001b[0m\u001b[1;33m\u001b[0m\u001b[1;33m\u001b[0m\u001b[0m\n\u001b[0;32m   1053\u001b[0m \u001b[1;33m\u001b[0m\u001b[0m\n",
      "\u001b[1;32mC:\\ProgramData\\Anaconda3\\envs\\tensorflow\\lib\\site-packages\\joblib\\parallel.py\u001b[0m in \u001b[0;36mdispatch_one_batch\u001b[1;34m(self, iterator)\u001b[0m\n\u001b[0;32m    864\u001b[0m                 \u001b[1;32mreturn\u001b[0m \u001b[1;32mFalse\u001b[0m\u001b[1;33m\u001b[0m\u001b[1;33m\u001b[0m\u001b[0m\n\u001b[0;32m    865\u001b[0m             \u001b[1;32melse\u001b[0m\u001b[1;33m:\u001b[0m\u001b[1;33m\u001b[0m\u001b[1;33m\u001b[0m\u001b[0m\n\u001b[1;32m--> 866\u001b[1;33m                 \u001b[0mself\u001b[0m\u001b[1;33m.\u001b[0m\u001b[0m_dispatch\u001b[0m\u001b[1;33m(\u001b[0m\u001b[0mtasks\u001b[0m\u001b[1;33m)\u001b[0m\u001b[1;33m\u001b[0m\u001b[1;33m\u001b[0m\u001b[0m\n\u001b[0m\u001b[0;32m    867\u001b[0m                 \u001b[1;32mreturn\u001b[0m \u001b[1;32mTrue\u001b[0m\u001b[1;33m\u001b[0m\u001b[1;33m\u001b[0m\u001b[0m\n\u001b[0;32m    868\u001b[0m \u001b[1;33m\u001b[0m\u001b[0m\n",
      "\u001b[1;32mC:\\ProgramData\\Anaconda3\\envs\\tensorflow\\lib\\site-packages\\joblib\\parallel.py\u001b[0m in \u001b[0;36m_dispatch\u001b[1;34m(self, batch)\u001b[0m\n\u001b[0;32m    782\u001b[0m         \u001b[1;32mwith\u001b[0m \u001b[0mself\u001b[0m\u001b[1;33m.\u001b[0m\u001b[0m_lock\u001b[0m\u001b[1;33m:\u001b[0m\u001b[1;33m\u001b[0m\u001b[1;33m\u001b[0m\u001b[0m\n\u001b[0;32m    783\u001b[0m             \u001b[0mjob_idx\u001b[0m \u001b[1;33m=\u001b[0m \u001b[0mlen\u001b[0m\u001b[1;33m(\u001b[0m\u001b[0mself\u001b[0m\u001b[1;33m.\u001b[0m\u001b[0m_jobs\u001b[0m\u001b[1;33m)\u001b[0m\u001b[1;33m\u001b[0m\u001b[1;33m\u001b[0m\u001b[0m\n\u001b[1;32m--> 784\u001b[1;33m             \u001b[0mjob\u001b[0m \u001b[1;33m=\u001b[0m \u001b[0mself\u001b[0m\u001b[1;33m.\u001b[0m\u001b[0m_backend\u001b[0m\u001b[1;33m.\u001b[0m\u001b[0mapply_async\u001b[0m\u001b[1;33m(\u001b[0m\u001b[0mbatch\u001b[0m\u001b[1;33m,\u001b[0m \u001b[0mcallback\u001b[0m\u001b[1;33m=\u001b[0m\u001b[0mcb\u001b[0m\u001b[1;33m)\u001b[0m\u001b[1;33m\u001b[0m\u001b[1;33m\u001b[0m\u001b[0m\n\u001b[0m\u001b[0;32m    785\u001b[0m             \u001b[1;31m# A job can complete so quickly than its callback is\u001b[0m\u001b[1;33m\u001b[0m\u001b[1;33m\u001b[0m\u001b[1;33m\u001b[0m\u001b[0m\n\u001b[0;32m    786\u001b[0m             \u001b[1;31m# called before we get here, causing self._jobs to\u001b[0m\u001b[1;33m\u001b[0m\u001b[1;33m\u001b[0m\u001b[1;33m\u001b[0m\u001b[0m\n",
      "\u001b[1;32mC:\\ProgramData\\Anaconda3\\envs\\tensorflow\\lib\\site-packages\\joblib\\_parallel_backends.py\u001b[0m in \u001b[0;36mapply_async\u001b[1;34m(self, func, callback)\u001b[0m\n\u001b[0;32m    206\u001b[0m     \u001b[1;32mdef\u001b[0m \u001b[0mapply_async\u001b[0m\u001b[1;33m(\u001b[0m\u001b[0mself\u001b[0m\u001b[1;33m,\u001b[0m \u001b[0mfunc\u001b[0m\u001b[1;33m,\u001b[0m \u001b[0mcallback\u001b[0m\u001b[1;33m=\u001b[0m\u001b[1;32mNone\u001b[0m\u001b[1;33m)\u001b[0m\u001b[1;33m:\u001b[0m\u001b[1;33m\u001b[0m\u001b[1;33m\u001b[0m\u001b[0m\n\u001b[0;32m    207\u001b[0m         \u001b[1;34m\"\"\"Schedule a func to be run\"\"\"\u001b[0m\u001b[1;33m\u001b[0m\u001b[1;33m\u001b[0m\u001b[0m\n\u001b[1;32m--> 208\u001b[1;33m         \u001b[0mresult\u001b[0m \u001b[1;33m=\u001b[0m \u001b[0mImmediateResult\u001b[0m\u001b[1;33m(\u001b[0m\u001b[0mfunc\u001b[0m\u001b[1;33m)\u001b[0m\u001b[1;33m\u001b[0m\u001b[1;33m\u001b[0m\u001b[0m\n\u001b[0m\u001b[0;32m    209\u001b[0m         \u001b[1;32mif\u001b[0m \u001b[0mcallback\u001b[0m\u001b[1;33m:\u001b[0m\u001b[1;33m\u001b[0m\u001b[1;33m\u001b[0m\u001b[0m\n\u001b[0;32m    210\u001b[0m             \u001b[0mcallback\u001b[0m\u001b[1;33m(\u001b[0m\u001b[0mresult\u001b[0m\u001b[1;33m)\u001b[0m\u001b[1;33m\u001b[0m\u001b[1;33m\u001b[0m\u001b[0m\n",
      "\u001b[1;32mC:\\ProgramData\\Anaconda3\\envs\\tensorflow\\lib\\site-packages\\joblib\\_parallel_backends.py\u001b[0m in \u001b[0;36m__init__\u001b[1;34m(self, batch)\u001b[0m\n\u001b[0;32m    570\u001b[0m         \u001b[1;31m# Don't delay the application, to avoid keeping the input\u001b[0m\u001b[1;33m\u001b[0m\u001b[1;33m\u001b[0m\u001b[1;33m\u001b[0m\u001b[0m\n\u001b[0;32m    571\u001b[0m         \u001b[1;31m# arguments in memory\u001b[0m\u001b[1;33m\u001b[0m\u001b[1;33m\u001b[0m\u001b[1;33m\u001b[0m\u001b[0m\n\u001b[1;32m--> 572\u001b[1;33m         \u001b[0mself\u001b[0m\u001b[1;33m.\u001b[0m\u001b[0mresults\u001b[0m \u001b[1;33m=\u001b[0m \u001b[0mbatch\u001b[0m\u001b[1;33m(\u001b[0m\u001b[1;33m)\u001b[0m\u001b[1;33m\u001b[0m\u001b[1;33m\u001b[0m\u001b[0m\n\u001b[0m\u001b[0;32m    573\u001b[0m \u001b[1;33m\u001b[0m\u001b[0m\n\u001b[0;32m    574\u001b[0m     \u001b[1;32mdef\u001b[0m \u001b[0mget\u001b[0m\u001b[1;33m(\u001b[0m\u001b[0mself\u001b[0m\u001b[1;33m)\u001b[0m\u001b[1;33m:\u001b[0m\u001b[1;33m\u001b[0m\u001b[1;33m\u001b[0m\u001b[0m\n",
      "\u001b[1;32mC:\\ProgramData\\Anaconda3\\envs\\tensorflow\\lib\\site-packages\\joblib\\parallel.py\u001b[0m in \u001b[0;36m__call__\u001b[1;34m(self)\u001b[0m\n\u001b[0;32m    261\u001b[0m         \u001b[1;32mwith\u001b[0m \u001b[0mparallel_backend\u001b[0m\u001b[1;33m(\u001b[0m\u001b[0mself\u001b[0m\u001b[1;33m.\u001b[0m\u001b[0m_backend\u001b[0m\u001b[1;33m,\u001b[0m \u001b[0mn_jobs\u001b[0m\u001b[1;33m=\u001b[0m\u001b[0mself\u001b[0m\u001b[1;33m.\u001b[0m\u001b[0m_n_jobs\u001b[0m\u001b[1;33m)\u001b[0m\u001b[1;33m:\u001b[0m\u001b[1;33m\u001b[0m\u001b[1;33m\u001b[0m\u001b[0m\n\u001b[0;32m    262\u001b[0m             return [func(*args, **kwargs)\n\u001b[1;32m--> 263\u001b[1;33m                     for func, args, kwargs in self.items]\n\u001b[0m\u001b[0;32m    264\u001b[0m \u001b[1;33m\u001b[0m\u001b[0m\n\u001b[0;32m    265\u001b[0m     \u001b[1;32mdef\u001b[0m \u001b[0m__reduce__\u001b[0m\u001b[1;33m(\u001b[0m\u001b[0mself\u001b[0m\u001b[1;33m)\u001b[0m\u001b[1;33m:\u001b[0m\u001b[1;33m\u001b[0m\u001b[1;33m\u001b[0m\u001b[0m\n",
      "\u001b[1;32mC:\\ProgramData\\Anaconda3\\envs\\tensorflow\\lib\\site-packages\\joblib\\parallel.py\u001b[0m in \u001b[0;36m<listcomp>\u001b[1;34m(.0)\u001b[0m\n\u001b[0;32m    261\u001b[0m         \u001b[1;32mwith\u001b[0m \u001b[0mparallel_backend\u001b[0m\u001b[1;33m(\u001b[0m\u001b[0mself\u001b[0m\u001b[1;33m.\u001b[0m\u001b[0m_backend\u001b[0m\u001b[1;33m,\u001b[0m \u001b[0mn_jobs\u001b[0m\u001b[1;33m=\u001b[0m\u001b[0mself\u001b[0m\u001b[1;33m.\u001b[0m\u001b[0m_n_jobs\u001b[0m\u001b[1;33m)\u001b[0m\u001b[1;33m:\u001b[0m\u001b[1;33m\u001b[0m\u001b[1;33m\u001b[0m\u001b[0m\n\u001b[0;32m    262\u001b[0m             return [func(*args, **kwargs)\n\u001b[1;32m--> 263\u001b[1;33m                     for func, args, kwargs in self.items]\n\u001b[0m\u001b[0;32m    264\u001b[0m \u001b[1;33m\u001b[0m\u001b[0m\n\u001b[0;32m    265\u001b[0m     \u001b[1;32mdef\u001b[0m \u001b[0m__reduce__\u001b[0m\u001b[1;33m(\u001b[0m\u001b[0mself\u001b[0m\u001b[1;33m)\u001b[0m\u001b[1;33m:\u001b[0m\u001b[1;33m\u001b[0m\u001b[1;33m\u001b[0m\u001b[0m\n",
      "\u001b[1;32mC:\\ProgramData\\Anaconda3\\envs\\tensorflow\\lib\\site-packages\\sklearn\\model_selection\\_validation.py\u001b[0m in \u001b[0;36m_fit_and_score\u001b[1;34m(estimator, X, y, scorer, train, test, verbose, parameters, fit_params, return_train_score, return_parameters, return_n_test_samples, return_times, return_estimator, error_score)\u001b[0m\n\u001b[0;32m    529\u001b[0m             \u001b[0mestimator\u001b[0m\u001b[1;33m.\u001b[0m\u001b[0mfit\u001b[0m\u001b[1;33m(\u001b[0m\u001b[0mX_train\u001b[0m\u001b[1;33m,\u001b[0m \u001b[1;33m**\u001b[0m\u001b[0mfit_params\u001b[0m\u001b[1;33m)\u001b[0m\u001b[1;33m\u001b[0m\u001b[1;33m\u001b[0m\u001b[0m\n\u001b[0;32m    530\u001b[0m         \u001b[1;32melse\u001b[0m\u001b[1;33m:\u001b[0m\u001b[1;33m\u001b[0m\u001b[1;33m\u001b[0m\u001b[0m\n\u001b[1;32m--> 531\u001b[1;33m             \u001b[0mestimator\u001b[0m\u001b[1;33m.\u001b[0m\u001b[0mfit\u001b[0m\u001b[1;33m(\u001b[0m\u001b[0mX_train\u001b[0m\u001b[1;33m,\u001b[0m \u001b[0my_train\u001b[0m\u001b[1;33m,\u001b[0m \u001b[1;33m**\u001b[0m\u001b[0mfit_params\u001b[0m\u001b[1;33m)\u001b[0m\u001b[1;33m\u001b[0m\u001b[1;33m\u001b[0m\u001b[0m\n\u001b[0m\u001b[0;32m    532\u001b[0m \u001b[1;33m\u001b[0m\u001b[0m\n\u001b[0;32m    533\u001b[0m     \u001b[1;32mexcept\u001b[0m \u001b[0mException\u001b[0m \u001b[1;32mas\u001b[0m \u001b[0me\u001b[0m\u001b[1;33m:\u001b[0m\u001b[1;33m\u001b[0m\u001b[1;33m\u001b[0m\u001b[0m\n",
      "\u001b[1;32mC:\\ProgramData\\Anaconda3\\envs\\tensorflow\\lib\\site-packages\\tensorflow_core\\python\\keras\\wrappers\\scikit_learn.py\u001b[0m in \u001b[0;36mfit\u001b[1;34m(self, x, y, **kwargs)\u001b[0m\n\u001b[0;32m    164\u001b[0m     \u001b[0mfit_args\u001b[0m\u001b[1;33m.\u001b[0m\u001b[0mupdate\u001b[0m\u001b[1;33m(\u001b[0m\u001b[0mkwargs\u001b[0m\u001b[1;33m)\u001b[0m\u001b[1;33m\u001b[0m\u001b[1;33m\u001b[0m\u001b[0m\n\u001b[0;32m    165\u001b[0m \u001b[1;33m\u001b[0m\u001b[0m\n\u001b[1;32m--> 166\u001b[1;33m     \u001b[0mhistory\u001b[0m \u001b[1;33m=\u001b[0m \u001b[0mself\u001b[0m\u001b[1;33m.\u001b[0m\u001b[0mmodel\u001b[0m\u001b[1;33m.\u001b[0m\u001b[0mfit\u001b[0m\u001b[1;33m(\u001b[0m\u001b[0mx\u001b[0m\u001b[1;33m,\u001b[0m \u001b[0my\u001b[0m\u001b[1;33m,\u001b[0m \u001b[1;33m**\u001b[0m\u001b[0mfit_args\u001b[0m\u001b[1;33m)\u001b[0m\u001b[1;33m\u001b[0m\u001b[1;33m\u001b[0m\u001b[0m\n\u001b[0m\u001b[0;32m    167\u001b[0m \u001b[1;33m\u001b[0m\u001b[0m\n\u001b[0;32m    168\u001b[0m     \u001b[1;32mreturn\u001b[0m \u001b[0mhistory\u001b[0m\u001b[1;33m\u001b[0m\u001b[1;33m\u001b[0m\u001b[0m\n",
      "\u001b[1;32mC:\\ProgramData\\Anaconda3\\envs\\tensorflow\\lib\\site-packages\\tensorflow_core\\python\\keras\\engine\\training.py\u001b[0m in \u001b[0;36mfit\u001b[1;34m(self, x, y, batch_size, epochs, verbose, callbacks, validation_split, validation_data, shuffle, class_weight, sample_weight, initial_epoch, steps_per_epoch, validation_steps, validation_freq, max_queue_size, workers, use_multiprocessing, **kwargs)\u001b[0m\n\u001b[0;32m    817\u001b[0m         \u001b[0mmax_queue_size\u001b[0m\u001b[1;33m=\u001b[0m\u001b[0mmax_queue_size\u001b[0m\u001b[1;33m,\u001b[0m\u001b[1;33m\u001b[0m\u001b[1;33m\u001b[0m\u001b[0m\n\u001b[0;32m    818\u001b[0m         \u001b[0mworkers\u001b[0m\u001b[1;33m=\u001b[0m\u001b[0mworkers\u001b[0m\u001b[1;33m,\u001b[0m\u001b[1;33m\u001b[0m\u001b[1;33m\u001b[0m\u001b[0m\n\u001b[1;32m--> 819\u001b[1;33m         use_multiprocessing=use_multiprocessing)\n\u001b[0m\u001b[0;32m    820\u001b[0m \u001b[1;33m\u001b[0m\u001b[0m\n\u001b[0;32m    821\u001b[0m   def evaluate(self,\n",
      "\u001b[1;32mC:\\ProgramData\\Anaconda3\\envs\\tensorflow\\lib\\site-packages\\tensorflow_core\\python\\keras\\engine\\training_v2.py\u001b[0m in \u001b[0;36mfit\u001b[1;34m(self, model, x, y, batch_size, epochs, verbose, callbacks, validation_split, validation_data, shuffle, class_weight, sample_weight, initial_epoch, steps_per_epoch, validation_steps, validation_freq, max_queue_size, workers, use_multiprocessing, **kwargs)\u001b[0m\n\u001b[0;32m    340\u001b[0m                 \u001b[0mmode\u001b[0m\u001b[1;33m=\u001b[0m\u001b[0mModeKeys\u001b[0m\u001b[1;33m.\u001b[0m\u001b[0mTRAIN\u001b[0m\u001b[1;33m,\u001b[0m\u001b[1;33m\u001b[0m\u001b[1;33m\u001b[0m\u001b[0m\n\u001b[0;32m    341\u001b[0m                 \u001b[0mtraining_context\u001b[0m\u001b[1;33m=\u001b[0m\u001b[0mtraining_context\u001b[0m\u001b[1;33m,\u001b[0m\u001b[1;33m\u001b[0m\u001b[1;33m\u001b[0m\u001b[0m\n\u001b[1;32m--> 342\u001b[1;33m                 total_epochs=epochs)\n\u001b[0m\u001b[0;32m    343\u001b[0m             \u001b[0mcbks\u001b[0m\u001b[1;33m.\u001b[0m\u001b[0mmake_logs\u001b[0m\u001b[1;33m(\u001b[0m\u001b[0mmodel\u001b[0m\u001b[1;33m,\u001b[0m \u001b[0mepoch_logs\u001b[0m\u001b[1;33m,\u001b[0m \u001b[0mtraining_result\u001b[0m\u001b[1;33m,\u001b[0m \u001b[0mModeKeys\u001b[0m\u001b[1;33m.\u001b[0m\u001b[0mTRAIN\u001b[0m\u001b[1;33m)\u001b[0m\u001b[1;33m\u001b[0m\u001b[1;33m\u001b[0m\u001b[0m\n\u001b[0;32m    344\u001b[0m \u001b[1;33m\u001b[0m\u001b[0m\n",
      "\u001b[1;32mC:\\ProgramData\\Anaconda3\\envs\\tensorflow\\lib\\site-packages\\tensorflow_core\\python\\keras\\engine\\training_v2.py\u001b[0m in \u001b[0;36mrun_one_epoch\u001b[1;34m(model, iterator, execution_function, dataset_size, batch_size, strategy, steps_per_epoch, num_samples, mode, training_context, total_epochs)\u001b[0m\n\u001b[0;32m    126\u001b[0m         step=step, mode=mode, size=current_batch_size) as batch_logs:\n\u001b[0;32m    127\u001b[0m       \u001b[1;32mtry\u001b[0m\u001b[1;33m:\u001b[0m\u001b[1;33m\u001b[0m\u001b[1;33m\u001b[0m\u001b[0m\n\u001b[1;32m--> 128\u001b[1;33m         \u001b[0mbatch_outs\u001b[0m \u001b[1;33m=\u001b[0m \u001b[0mexecution_function\u001b[0m\u001b[1;33m(\u001b[0m\u001b[0miterator\u001b[0m\u001b[1;33m)\u001b[0m\u001b[1;33m\u001b[0m\u001b[1;33m\u001b[0m\u001b[0m\n\u001b[0m\u001b[0;32m    129\u001b[0m       \u001b[1;32mexcept\u001b[0m \u001b[1;33m(\u001b[0m\u001b[0mStopIteration\u001b[0m\u001b[1;33m,\u001b[0m \u001b[0merrors\u001b[0m\u001b[1;33m.\u001b[0m\u001b[0mOutOfRangeError\u001b[0m\u001b[1;33m)\u001b[0m\u001b[1;33m:\u001b[0m\u001b[1;33m\u001b[0m\u001b[1;33m\u001b[0m\u001b[0m\n\u001b[0;32m    130\u001b[0m         \u001b[1;31m# TODO(kaftan): File bug about tf function and errors.OutOfRangeError?\u001b[0m\u001b[1;33m\u001b[0m\u001b[1;33m\u001b[0m\u001b[1;33m\u001b[0m\u001b[0m\n",
      "\u001b[1;32mC:\\ProgramData\\Anaconda3\\envs\\tensorflow\\lib\\site-packages\\tensorflow_core\\python\\keras\\engine\\training_v2_utils.py\u001b[0m in \u001b[0;36mexecution_function\u001b[1;34m(input_fn)\u001b[0m\n\u001b[0;32m     96\u001b[0m     \u001b[1;31m# `numpy` translates Tensors to values in Eager mode.\u001b[0m\u001b[1;33m\u001b[0m\u001b[1;33m\u001b[0m\u001b[1;33m\u001b[0m\u001b[0m\n\u001b[0;32m     97\u001b[0m     return nest.map_structure(_non_none_constant_value,\n\u001b[1;32m---> 98\u001b[1;33m                               distributed_function(input_fn))\n\u001b[0m\u001b[0;32m     99\u001b[0m \u001b[1;33m\u001b[0m\u001b[0m\n\u001b[0;32m    100\u001b[0m   \u001b[1;32mreturn\u001b[0m \u001b[0mexecution_function\u001b[0m\u001b[1;33m\u001b[0m\u001b[1;33m\u001b[0m\u001b[0m\n",
      "\u001b[1;32mC:\\ProgramData\\Anaconda3\\envs\\tensorflow\\lib\\site-packages\\tensorflow_core\\python\\eager\\def_function.py\u001b[0m in \u001b[0;36m__call__\u001b[1;34m(self, *args, **kwds)\u001b[0m\n\u001b[0;32m    566\u001b[0m         \u001b[0mxla_context\u001b[0m\u001b[1;33m.\u001b[0m\u001b[0mExit\u001b[0m\u001b[1;33m(\u001b[0m\u001b[1;33m)\u001b[0m\u001b[1;33m\u001b[0m\u001b[1;33m\u001b[0m\u001b[0m\n\u001b[0;32m    567\u001b[0m     \u001b[1;32melse\u001b[0m\u001b[1;33m:\u001b[0m\u001b[1;33m\u001b[0m\u001b[1;33m\u001b[0m\u001b[0m\n\u001b[1;32m--> 568\u001b[1;33m       \u001b[0mresult\u001b[0m \u001b[1;33m=\u001b[0m \u001b[0mself\u001b[0m\u001b[1;33m.\u001b[0m\u001b[0m_call\u001b[0m\u001b[1;33m(\u001b[0m\u001b[1;33m*\u001b[0m\u001b[0margs\u001b[0m\u001b[1;33m,\u001b[0m \u001b[1;33m**\u001b[0m\u001b[0mkwds\u001b[0m\u001b[1;33m)\u001b[0m\u001b[1;33m\u001b[0m\u001b[1;33m\u001b[0m\u001b[0m\n\u001b[0m\u001b[0;32m    569\u001b[0m \u001b[1;33m\u001b[0m\u001b[0m\n\u001b[0;32m    570\u001b[0m     \u001b[1;32mif\u001b[0m \u001b[0mtracing_count\u001b[0m \u001b[1;33m==\u001b[0m \u001b[0mself\u001b[0m\u001b[1;33m.\u001b[0m\u001b[0m_get_tracing_count\u001b[0m\u001b[1;33m(\u001b[0m\u001b[1;33m)\u001b[0m\u001b[1;33m:\u001b[0m\u001b[1;33m\u001b[0m\u001b[1;33m\u001b[0m\u001b[0m\n",
      "\u001b[1;32mC:\\ProgramData\\Anaconda3\\envs\\tensorflow\\lib\\site-packages\\tensorflow_core\\python\\eager\\def_function.py\u001b[0m in \u001b[0;36m_call\u001b[1;34m(self, *args, **kwds)\u001b[0m\n\u001b[0;32m    597\u001b[0m       \u001b[1;31m# In this case we have created variables on the first call, so we run the\u001b[0m\u001b[1;33m\u001b[0m\u001b[1;33m\u001b[0m\u001b[1;33m\u001b[0m\u001b[0m\n\u001b[0;32m    598\u001b[0m       \u001b[1;31m# defunned version which is guaranteed to never create variables.\u001b[0m\u001b[1;33m\u001b[0m\u001b[1;33m\u001b[0m\u001b[1;33m\u001b[0m\u001b[0m\n\u001b[1;32m--> 599\u001b[1;33m       \u001b[1;32mreturn\u001b[0m \u001b[0mself\u001b[0m\u001b[1;33m.\u001b[0m\u001b[0m_stateless_fn\u001b[0m\u001b[1;33m(\u001b[0m\u001b[1;33m*\u001b[0m\u001b[0margs\u001b[0m\u001b[1;33m,\u001b[0m \u001b[1;33m**\u001b[0m\u001b[0mkwds\u001b[0m\u001b[1;33m)\u001b[0m  \u001b[1;31m# pylint: disable=not-callable\u001b[0m\u001b[1;33m\u001b[0m\u001b[1;33m\u001b[0m\u001b[0m\n\u001b[0m\u001b[0;32m    600\u001b[0m     \u001b[1;32melif\u001b[0m \u001b[0mself\u001b[0m\u001b[1;33m.\u001b[0m\u001b[0m_stateful_fn\u001b[0m \u001b[1;32mis\u001b[0m \u001b[1;32mnot\u001b[0m \u001b[1;32mNone\u001b[0m\u001b[1;33m:\u001b[0m\u001b[1;33m\u001b[0m\u001b[1;33m\u001b[0m\u001b[0m\n\u001b[0;32m    601\u001b[0m       \u001b[1;31m# Release the lock early so that multiple threads can perform the call\u001b[0m\u001b[1;33m\u001b[0m\u001b[1;33m\u001b[0m\u001b[1;33m\u001b[0m\u001b[0m\n",
      "\u001b[1;32mC:\\ProgramData\\Anaconda3\\envs\\tensorflow\\lib\\site-packages\\tensorflow_core\\python\\eager\\function.py\u001b[0m in \u001b[0;36m__call__\u001b[1;34m(self, *args, **kwargs)\u001b[0m\n\u001b[0;32m   2361\u001b[0m     \u001b[1;32mwith\u001b[0m \u001b[0mself\u001b[0m\u001b[1;33m.\u001b[0m\u001b[0m_lock\u001b[0m\u001b[1;33m:\u001b[0m\u001b[1;33m\u001b[0m\u001b[1;33m\u001b[0m\u001b[0m\n\u001b[0;32m   2362\u001b[0m       \u001b[0mgraph_function\u001b[0m\u001b[1;33m,\u001b[0m \u001b[0margs\u001b[0m\u001b[1;33m,\u001b[0m \u001b[0mkwargs\u001b[0m \u001b[1;33m=\u001b[0m \u001b[0mself\u001b[0m\u001b[1;33m.\u001b[0m\u001b[0m_maybe_define_function\u001b[0m\u001b[1;33m(\u001b[0m\u001b[0margs\u001b[0m\u001b[1;33m,\u001b[0m \u001b[0mkwargs\u001b[0m\u001b[1;33m)\u001b[0m\u001b[1;33m\u001b[0m\u001b[1;33m\u001b[0m\u001b[0m\n\u001b[1;32m-> 2363\u001b[1;33m     \u001b[1;32mreturn\u001b[0m \u001b[0mgraph_function\u001b[0m\u001b[1;33m.\u001b[0m\u001b[0m_filtered_call\u001b[0m\u001b[1;33m(\u001b[0m\u001b[0margs\u001b[0m\u001b[1;33m,\u001b[0m \u001b[0mkwargs\u001b[0m\u001b[1;33m)\u001b[0m  \u001b[1;31m# pylint: disable=protected-access\u001b[0m\u001b[1;33m\u001b[0m\u001b[1;33m\u001b[0m\u001b[0m\n\u001b[0m\u001b[0;32m   2364\u001b[0m \u001b[1;33m\u001b[0m\u001b[0m\n\u001b[0;32m   2365\u001b[0m   \u001b[1;33m@\u001b[0m\u001b[0mproperty\u001b[0m\u001b[1;33m\u001b[0m\u001b[1;33m\u001b[0m\u001b[0m\n",
      "\u001b[1;32mC:\\ProgramData\\Anaconda3\\envs\\tensorflow\\lib\\site-packages\\tensorflow_core\\python\\eager\\function.py\u001b[0m in \u001b[0;36m_filtered_call\u001b[1;34m(self, args, kwargs)\u001b[0m\n\u001b[0;32m   1609\u001b[0m          if isinstance(t, (ops.Tensor,\n\u001b[0;32m   1610\u001b[0m                            resource_variable_ops.BaseResourceVariable))),\n\u001b[1;32m-> 1611\u001b[1;33m         self.captured_inputs)\n\u001b[0m\u001b[0;32m   1612\u001b[0m \u001b[1;33m\u001b[0m\u001b[0m\n\u001b[0;32m   1613\u001b[0m   \u001b[1;32mdef\u001b[0m \u001b[0m_call_flat\u001b[0m\u001b[1;33m(\u001b[0m\u001b[0mself\u001b[0m\u001b[1;33m,\u001b[0m \u001b[0margs\u001b[0m\u001b[1;33m,\u001b[0m \u001b[0mcaptured_inputs\u001b[0m\u001b[1;33m,\u001b[0m \u001b[0mcancellation_manager\u001b[0m\u001b[1;33m=\u001b[0m\u001b[1;32mNone\u001b[0m\u001b[1;33m)\u001b[0m\u001b[1;33m:\u001b[0m\u001b[1;33m\u001b[0m\u001b[1;33m\u001b[0m\u001b[0m\n",
      "\u001b[1;32mC:\\ProgramData\\Anaconda3\\envs\\tensorflow\\lib\\site-packages\\tensorflow_core\\python\\eager\\function.py\u001b[0m in \u001b[0;36m_call_flat\u001b[1;34m(self, args, captured_inputs, cancellation_manager)\u001b[0m\n\u001b[0;32m   1690\u001b[0m       \u001b[1;31m# No tape is watching; skip to running the function.\u001b[0m\u001b[1;33m\u001b[0m\u001b[1;33m\u001b[0m\u001b[1;33m\u001b[0m\u001b[0m\n\u001b[0;32m   1691\u001b[0m       return self._build_call_outputs(self._inference_function.call(\n\u001b[1;32m-> 1692\u001b[1;33m           ctx, args, cancellation_manager=cancellation_manager))\n\u001b[0m\u001b[0;32m   1693\u001b[0m     forward_backward = self._select_forward_and_backward_functions(\n\u001b[0;32m   1694\u001b[0m         \u001b[0margs\u001b[0m\u001b[1;33m,\u001b[0m\u001b[1;33m\u001b[0m\u001b[1;33m\u001b[0m\u001b[0m\n",
      "\u001b[1;32mC:\\ProgramData\\Anaconda3\\envs\\tensorflow\\lib\\site-packages\\tensorflow_core\\python\\eager\\function.py\u001b[0m in \u001b[0;36mcall\u001b[1;34m(self, ctx, args, cancellation_manager)\u001b[0m\n\u001b[0;32m    543\u001b[0m               \u001b[0minputs\u001b[0m\u001b[1;33m=\u001b[0m\u001b[0margs\u001b[0m\u001b[1;33m,\u001b[0m\u001b[1;33m\u001b[0m\u001b[1;33m\u001b[0m\u001b[0m\n\u001b[0;32m    544\u001b[0m               \u001b[0mattrs\u001b[0m\u001b[1;33m=\u001b[0m\u001b[1;33m(\u001b[0m\u001b[1;34m\"executor_type\"\u001b[0m\u001b[1;33m,\u001b[0m \u001b[0mexecutor_type\u001b[0m\u001b[1;33m,\u001b[0m \u001b[1;34m\"config_proto\"\u001b[0m\u001b[1;33m,\u001b[0m \u001b[0mconfig\u001b[0m\u001b[1;33m)\u001b[0m\u001b[1;33m,\u001b[0m\u001b[1;33m\u001b[0m\u001b[1;33m\u001b[0m\u001b[0m\n\u001b[1;32m--> 545\u001b[1;33m               ctx=ctx)\n\u001b[0m\u001b[0;32m    546\u001b[0m         \u001b[1;32melse\u001b[0m\u001b[1;33m:\u001b[0m\u001b[1;33m\u001b[0m\u001b[1;33m\u001b[0m\u001b[0m\n\u001b[0;32m    547\u001b[0m           outputs = execute.execute_with_cancellation(\n",
      "\u001b[1;32mC:\\ProgramData\\Anaconda3\\envs\\tensorflow\\lib\\site-packages\\tensorflow_core\\python\\eager\\execute.py\u001b[0m in \u001b[0;36mquick_execute\u001b[1;34m(op_name, num_outputs, inputs, attrs, ctx, name)\u001b[0m\n\u001b[0;32m     59\u001b[0m     tensors = pywrap_tensorflow.TFE_Py_Execute(ctx._handle, device_name,\n\u001b[0;32m     60\u001b[0m                                                \u001b[0mop_name\u001b[0m\u001b[1;33m,\u001b[0m \u001b[0minputs\u001b[0m\u001b[1;33m,\u001b[0m \u001b[0mattrs\u001b[0m\u001b[1;33m,\u001b[0m\u001b[1;33m\u001b[0m\u001b[1;33m\u001b[0m\u001b[0m\n\u001b[1;32m---> 61\u001b[1;33m                                                num_outputs)\n\u001b[0m\u001b[0;32m     62\u001b[0m   \u001b[1;32mexcept\u001b[0m \u001b[0mcore\u001b[0m\u001b[1;33m.\u001b[0m\u001b[0m_NotOkStatusException\u001b[0m \u001b[1;32mas\u001b[0m \u001b[0me\u001b[0m\u001b[1;33m:\u001b[0m\u001b[1;33m\u001b[0m\u001b[1;33m\u001b[0m\u001b[0m\n\u001b[0;32m     63\u001b[0m     \u001b[1;32mif\u001b[0m \u001b[0mname\u001b[0m \u001b[1;32mis\u001b[0m \u001b[1;32mnot\u001b[0m \u001b[1;32mNone\u001b[0m\u001b[1;33m:\u001b[0m\u001b[1;33m\u001b[0m\u001b[1;33m\u001b[0m\u001b[0m\n",
      "\u001b[1;31mKeyboardInterrupt\u001b[0m: "
     ]
    }
   ],
   "source": [
    "filepath=\"inference.weights.best.hdf5\"\n",
    "\n",
    "mc = keras.callbacks.ModelCheckpoint('best_model.h5', monitor='val_accuracy', mode='max', verbose=1, save_best_only=True)\n",
    "es = keras.callbacks.EarlyStopping(monitor='val_loss', mode='min', verbose=1, patience=3)\n",
    "\n",
    "callbacks_list = [mc,es]\n",
    "\n",
    "                validation_data=(x_valid, y_valid),\n",
    "                callbacks=callbacks_list)"
   ]
  },
  {
   "cell_type": "code",
   "execution_count": null,
   "metadata": {},
   "outputs": [],
   "source": []
  }
 ],
 "metadata": {
  "kernelspec": {
   "display_name": "Python 3",
   "language": "python",
   "name": "python3"
  },
  "language_info": {
   "codemirror_mode": {
    "name": "ipython",
    "version": 3
   },
   "file_extension": ".py",
   "mimetype": "text/x-python",
   "name": "python",
   "nbconvert_exporter": "python",
   "pygments_lexer": "ipython3",
   "version": "3.7.9"
  }
 },
 "nbformat": 4,
 "nbformat_minor": 4
}
